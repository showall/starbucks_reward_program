{
 "cells": [
  {
   "cell_type": "markdown",
   "metadata": {},
   "source": [
    "# Starbucks Capstone Challenge\n",
    "\n",
    "### Introduction\n",
    "\n",
    "This data set contains simulated data that mimics customer behavior on the Starbucks rewards mobile app. Once every few days, Starbucks sends out an offer to users of the mobile app. An offer can be merely an advertisement for a drink or an actual offer such as a discount or BOGO (buy one get one free). Some users might not receive any offer during certain weeks. \n",
    "\n",
    "Not all users receive the same offer, and that is the challenge to solve with this data set.\n",
    "\n",
    "Your task is to combine transaction, demographic and offer data to determine which demographic groups respond best to which offer type. This data set is a simplified version of the real Starbucks app because the underlying simulator only has one product whereas Starbucks actually sells dozens of products.\n",
    "\n",
    "Every offer has a validity period before the offer expires. As an example, a BOGO offer might be valid for only 5 days. You'll see in the data set that informational offers have a validity period even though these ads are merely providing information about a product; for example, if an informational offer has 7 days of validity, you can assume the customer is feeling the influence of the offer for 7 days after receiving the advertisement.\n",
    "\n",
    "You'll be given transactional data showing user purchases made on the app including the timestamp of purchase and the amount of money spent on a purchase. This transactional data also has a record for each offer that a user receives as well as a record for when a user actually views the offer. There are also records for when a user completes an offer. \n",
    "\n",
    "Keep in mind as well that someone using the app might make a purchase through the app without having received an offer or seen an offer.\n",
    "\n",
    "### Example\n",
    "\n",
    "To give an example, a user could receive a discount offer buy 10 dollars get 2 off on Monday. The offer is valid for 10 days from receipt. If the customer accumulates at least 10 dollars in purchases during the validity period, the customer completes the offer.\n",
    "\n",
    "However, there are a few things to watch out for in this data set. Customers do not opt into the offers that they receive; in other words, a user can receive an offer, never actually view the offer, and still complete the offer. For example, a user might receive the \"buy 10 dollars get 2 dollars off offer\", but the user never opens the offer during the 10 day validity period. The customer spends 15 dollars during those ten days. There will be an offer completion record in the data set; however, the customer was not influenced by the offer because the customer never viewed the offer.\n",
    "\n",
    "### Cleaning\n",
    "\n",
    "This makes data cleaning especially important and tricky.\n",
    "\n",
    "You'll also want to take into account that some demographic groups will make purchases even if they don't receive an offer. From a business perspective, if a customer is going to make a 10 dollar purchase without an offer anyway, you wouldn't want to send a buy 10 dollars get 2 dollars off offer. You'll want to try to assess what a certain demographic group will buy when not receiving any offers.\n",
    "\n",
    "### Final Advice\n",
    "\n",
    "Because this is a capstone project, you are free to analyze the data any way you see fit. For example, you could build a machine learning model that predicts how much someone will spend based on demographics and offer type. Or you could build a model that predicts whether or not someone will respond to an offer. Or, you don't need to build a machine learning model at all. You could develop a set of heuristics that determine what offer you should send to each customer (i.e., 75 percent of women customers who were 35 years old responded to offer A vs 40 percent from the same demographic to offer B, so send offer A)."
   ]
  },
  {
   "cell_type": "markdown",
   "metadata": {},
   "source": [
    "# Section - Analysis"
   ]
  },
  {
   "cell_type": "markdown",
   "metadata": {},
   "source": [
    "## 1. Data Exploration"
   ]
  },
  {
   "cell_type": "markdown",
   "metadata": {},
   "source": [
    "# Data Sets\n",
    "\n",
    "The data is contained in three files:\n",
    "\n",
    "* portfolio.json - containing offer ids and meta data about each offer (duration, type, etc.)\n",
    "* profile.json - demographic data for each customer\n",
    "* transcript.json - records for transactions, offers received, offers viewed, and offers completed\n",
    "\n",
    "Here is the schema and explanation of each variable in the files:\n",
    "\n",
    "**portfolio.json**\n",
    "* id (string) - offer id\n",
    "* offer_type (string) - type of offer ie BOGO, discount, informational\n",
    "* difficulty (int) - minimum required spend to complete an offer\n",
    "* reward (int) - reward given for completing an offer\n",
    "* duration (int) - time for offer to be open, in days\n",
    "* channels (list of strings)\n",
    "\n",
    "**profile.json**\n",
    "* age (int) - age of the customer \n",
    "* became_member_on (int) - date when customer created an app account\n",
    "* gender (str) - gender of the customer (note some entries contain 'O' for other rather than M or F)\n",
    "* id (str) - customer id\n",
    "* income (float) - customer's income\n",
    "\n",
    "**transcript.json**\n",
    "* event (str) - record description (ie transaction, offer received, offer viewed, etc.)\n",
    "* person (str) - customer id\n",
    "* time (int) - time in hours since start of test. The data begins at time t=0\n",
    "* value - (dict of strings) - either an offer id or transaction amount depending on the record\n",
    "\n",
    "**Note:** If you are using the workspace, you will need to go to the terminal and run the command `conda update pandas` before reading in the files. This is because the version of pandas in the workspace cannot read in the transcript.json file correctly, but the newest version of pandas can. You can access the termnal from the orange icon in the top left of this notebook.  \n",
    "\n",
    "You can see how to access the terminal and how the install works using the two images below.  First you need to access the terminal:\n",
    "\n",
    "<img src=\"pic1.png\"/>\n",
    "\n",
    "Then you will want to run the above command:\n",
    "\n",
    "<img src=\"pic2.png\"/>\n",
    "\n",
    "Finally, when you enter back into the notebook (use the jupyter icon again), you should be able to run the below cell without any errors."
   ]
  },
  {
   "cell_type": "code",
   "execution_count": null,
   "metadata": {},
   "outputs": [],
   "source": [
    "# !pip install category_encoders\n",
    "# !pip install lightgbm\n",
    "# !pip install xgboost\n",
    "# !pip install catboost\n",
    "# ! pip install dataframe-image\n",
    "#! pip install dataframe-image"
   ]
  },
  {
   "cell_type": "code",
   "execution_count": null,
   "metadata": {},
   "outputs": [],
   "source": [
    "import pandas as pd\n",
    "import numpy as np\n",
    "import math\n",
    "import json\n",
    "import copy\n",
    "#% matplotlib inline\n",
    "import matplotlib.pyplot as plt\n",
    "import time\n",
    "import seaborn as sns\n",
    "from sklearn.metrics import accuracy_score, balanced_accuracy_score, \\\n",
    "    precision_score, recall_score, f1_score, average_precision_score, \\\n",
    "    roc_auc_score, roc_curve, classification_report\n",
    "import datetime\n",
    "from sklearn.linear_model import LogisticRegression\n",
    "import warnings\n",
    "warnings.filterwarnings('ignore')\n",
    "import matplotlib.pyplot as plt\n",
    "import scipy.stats as stats\n",
    "from sklearn.utils.class_weight import compute_class_weight\n",
    "from sklearn.model_selection import cross_val_score, StratifiedKFold, train_test_split\n",
    "from sklearn.feature_selection import SelectFromModel\n",
    "from sklearn.preprocessing import StandardScaler, OneHotEncoder, PowerTransformer, PolynomialFeatures, LabelEncoder\n",
    "from category_encoders import WOEEncoder, BinaryEncoder\n",
    "from sklearn.pipeline import Pipeline\n",
    "from sklearn.compose import ColumnTransformer\n",
    "from sklearn.linear_model import LogisticRegression\n",
    "from sklearn.ensemble import RandomForestClassifier, GradientBoostingClassifier\n",
    "from sklearn import metrics\n",
    "from lightgbm import LGBMClassifier\n",
    "from xgboost import XGBClassifier\n",
    "from catboost import CatBoostClassifier\n",
    "from sklearn.model_selection import GridSearchCV\n",
    "import xgboost\n",
    "import dataframe_image as dfi\n",
    "pd.options.display.max_columns = None"
   ]
  },
  {
   "cell_type": "code",
   "execution_count": null,
   "metadata": {},
   "outputs": [],
   "source": [
    "# read in the json files\n",
    "portfolio = pd.read_json('data/portfolio.json', orient='records', lines=True)\n",
    "profile = pd.read_json('data/profile.json', orient='records', lines=True)\n",
    "transcript = pd.read_json('data/transcript.json', orient='records', lines=True)"
   ]
  },
  {
   "cell_type": "code",
   "execution_count": 4,
   "metadata": {},
   "outputs": [
    {
     "data": {
      "text/html": [
       "<div>\n",
       "<style scoped>\n",
       "    .dataframe tbody tr th:only-of-type {\n",
       "        vertical-align: middle;\n",
       "    }\n",
       "\n",
       "    .dataframe tbody tr th {\n",
       "        vertical-align: top;\n",
       "    }\n",
       "\n",
       "    .dataframe thead th {\n",
       "        text-align: right;\n",
       "    }\n",
       "</style>\n",
       "<table border=\"1\" class=\"dataframe\">\n",
       "  <thead>\n",
       "    <tr style=\"text-align: right;\">\n",
       "      <th></th>\n",
       "      <th>reward</th>\n",
       "      <th>channels</th>\n",
       "      <th>difficulty</th>\n",
       "      <th>duration</th>\n",
       "      <th>offer_type</th>\n",
       "      <th>id</th>\n",
       "    </tr>\n",
       "  </thead>\n",
       "  <tbody>\n",
       "    <tr>\n",
       "      <th>0</th>\n",
       "      <td>10</td>\n",
       "      <td>[email, mobile, social]</td>\n",
       "      <td>10</td>\n",
       "      <td>7</td>\n",
       "      <td>bogo</td>\n",
       "      <td>ae264e3637204a6fb9bb56bc8210ddfd</td>\n",
       "    </tr>\n",
       "    <tr>\n",
       "      <th>1</th>\n",
       "      <td>10</td>\n",
       "      <td>[web, email, mobile, social]</td>\n",
       "      <td>10</td>\n",
       "      <td>5</td>\n",
       "      <td>bogo</td>\n",
       "      <td>4d5c57ea9a6940dd891ad53e9dbe8da0</td>\n",
       "    </tr>\n",
       "    <tr>\n",
       "      <th>2</th>\n",
       "      <td>0</td>\n",
       "      <td>[web, email, mobile]</td>\n",
       "      <td>0</td>\n",
       "      <td>4</td>\n",
       "      <td>informational</td>\n",
       "      <td>3f207df678b143eea3cee63160fa8bed</td>\n",
       "    </tr>\n",
       "    <tr>\n",
       "      <th>3</th>\n",
       "      <td>5</td>\n",
       "      <td>[web, email, mobile]</td>\n",
       "      <td>5</td>\n",
       "      <td>7</td>\n",
       "      <td>bogo</td>\n",
       "      <td>9b98b8c7a33c4b65b9aebfe6a799e6d9</td>\n",
       "    </tr>\n",
       "    <tr>\n",
       "      <th>4</th>\n",
       "      <td>5</td>\n",
       "      <td>[web, email]</td>\n",
       "      <td>20</td>\n",
       "      <td>10</td>\n",
       "      <td>discount</td>\n",
       "      <td>0b1e1539f2cc45b7b9fa7c272da2e1d7</td>\n",
       "    </tr>\n",
       "    <tr>\n",
       "      <th>5</th>\n",
       "      <td>3</td>\n",
       "      <td>[web, email, mobile, social]</td>\n",
       "      <td>7</td>\n",
       "      <td>7</td>\n",
       "      <td>discount</td>\n",
       "      <td>2298d6c36e964ae4a3e7e9706d1fb8c2</td>\n",
       "    </tr>\n",
       "    <tr>\n",
       "      <th>6</th>\n",
       "      <td>2</td>\n",
       "      <td>[web, email, mobile, social]</td>\n",
       "      <td>10</td>\n",
       "      <td>10</td>\n",
       "      <td>discount</td>\n",
       "      <td>fafdcd668e3743c1bb461111dcafc2a4</td>\n",
       "    </tr>\n",
       "    <tr>\n",
       "      <th>7</th>\n",
       "      <td>0</td>\n",
       "      <td>[email, mobile, social]</td>\n",
       "      <td>0</td>\n",
       "      <td>3</td>\n",
       "      <td>informational</td>\n",
       "      <td>5a8bc65990b245e5a138643cd4eb9837</td>\n",
       "    </tr>\n",
       "    <tr>\n",
       "      <th>8</th>\n",
       "      <td>5</td>\n",
       "      <td>[web, email, mobile, social]</td>\n",
       "      <td>5</td>\n",
       "      <td>5</td>\n",
       "      <td>bogo</td>\n",
       "      <td>f19421c1d4aa40978ebb69ca19b0e20d</td>\n",
       "    </tr>\n",
       "    <tr>\n",
       "      <th>9</th>\n",
       "      <td>2</td>\n",
       "      <td>[web, email, mobile]</td>\n",
       "      <td>10</td>\n",
       "      <td>7</td>\n",
       "      <td>discount</td>\n",
       "      <td>2906b810c7d4411798c6938adc9daaa5</td>\n",
       "    </tr>\n",
       "  </tbody>\n",
       "</table>\n",
       "</div>"
      ],
      "text/plain": [
       "   reward                      channels  difficulty  duration     offer_type  \\\n",
       "0      10       [email, mobile, social]          10         7           bogo   \n",
       "1      10  [web, email, mobile, social]          10         5           bogo   \n",
       "2       0          [web, email, mobile]           0         4  informational   \n",
       "3       5          [web, email, mobile]           5         7           bogo   \n",
       "4       5                  [web, email]          20        10       discount   \n",
       "5       3  [web, email, mobile, social]           7         7       discount   \n",
       "6       2  [web, email, mobile, social]          10        10       discount   \n",
       "7       0       [email, mobile, social]           0         3  informational   \n",
       "8       5  [web, email, mobile, social]           5         5           bogo   \n",
       "9       2          [web, email, mobile]          10         7       discount   \n",
       "\n",
       "                                 id  \n",
       "0  ae264e3637204a6fb9bb56bc8210ddfd  \n",
       "1  4d5c57ea9a6940dd891ad53e9dbe8da0  \n",
       "2  3f207df678b143eea3cee63160fa8bed  \n",
       "3  9b98b8c7a33c4b65b9aebfe6a799e6d9  \n",
       "4  0b1e1539f2cc45b7b9fa7c272da2e1d7  \n",
       "5  2298d6c36e964ae4a3e7e9706d1fb8c2  \n",
       "6  fafdcd668e3743c1bb461111dcafc2a4  \n",
       "7  5a8bc65990b245e5a138643cd4eb9837  \n",
       "8  f19421c1d4aa40978ebb69ca19b0e20d  \n",
       "9  2906b810c7d4411798c6938adc9daaa5  "
      ]
     },
     "execution_count": 4,
     "metadata": {},
     "output_type": "execute_result"
    }
   ],
   "source": [
    "portfolio"
   ]
  },
  {
   "cell_type": "code",
   "execution_count": 5,
   "metadata": {},
   "outputs": [
    {
     "data": {
      "text/html": [
       "<div>\n",
       "<style scoped>\n",
       "    .dataframe tbody tr th:only-of-type {\n",
       "        vertical-align: middle;\n",
       "    }\n",
       "\n",
       "    .dataframe tbody tr th {\n",
       "        vertical-align: top;\n",
       "    }\n",
       "\n",
       "    .dataframe thead th {\n",
       "        text-align: right;\n",
       "    }\n",
       "</style>\n",
       "<table border=\"1\" class=\"dataframe\">\n",
       "  <thead>\n",
       "    <tr style=\"text-align: right;\">\n",
       "      <th></th>\n",
       "      <th>gender</th>\n",
       "      <th>age</th>\n",
       "      <th>id</th>\n",
       "      <th>became_member_on</th>\n",
       "      <th>income</th>\n",
       "    </tr>\n",
       "  </thead>\n",
       "  <tbody>\n",
       "    <tr>\n",
       "      <th>0</th>\n",
       "      <td>None</td>\n",
       "      <td>118</td>\n",
       "      <td>68be06ca386d4c31939f3a4f0e3dd783</td>\n",
       "      <td>20170212</td>\n",
       "      <td>NaN</td>\n",
       "    </tr>\n",
       "    <tr>\n",
       "      <th>1</th>\n",
       "      <td>F</td>\n",
       "      <td>55</td>\n",
       "      <td>0610b486422d4921ae7d2bf64640c50b</td>\n",
       "      <td>20170715</td>\n",
       "      <td>112000.0</td>\n",
       "    </tr>\n",
       "    <tr>\n",
       "      <th>2</th>\n",
       "      <td>None</td>\n",
       "      <td>118</td>\n",
       "      <td>38fe809add3b4fcf9315a9694bb96ff5</td>\n",
       "      <td>20180712</td>\n",
       "      <td>NaN</td>\n",
       "    </tr>\n",
       "    <tr>\n",
       "      <th>3</th>\n",
       "      <td>F</td>\n",
       "      <td>75</td>\n",
       "      <td>78afa995795e4d85b5d9ceeca43f5fef</td>\n",
       "      <td>20170509</td>\n",
       "      <td>100000.0</td>\n",
       "    </tr>\n",
       "    <tr>\n",
       "      <th>4</th>\n",
       "      <td>None</td>\n",
       "      <td>118</td>\n",
       "      <td>a03223e636434f42ac4c3df47e8bac43</td>\n",
       "      <td>20170804</td>\n",
       "      <td>NaN</td>\n",
       "    </tr>\n",
       "  </tbody>\n",
       "</table>\n",
       "</div>"
      ],
      "text/plain": [
       "  gender  age                                id  became_member_on    income\n",
       "0   None  118  68be06ca386d4c31939f3a4f0e3dd783          20170212       NaN\n",
       "1      F   55  0610b486422d4921ae7d2bf64640c50b          20170715  112000.0\n",
       "2   None  118  38fe809add3b4fcf9315a9694bb96ff5          20180712       NaN\n",
       "3      F   75  78afa995795e4d85b5d9ceeca43f5fef          20170509  100000.0\n",
       "4   None  118  a03223e636434f42ac4c3df47e8bac43          20170804       NaN"
      ]
     },
     "execution_count": 5,
     "metadata": {},
     "output_type": "execute_result"
    }
   ],
   "source": [
    "profile.head()"
   ]
  },
  {
   "cell_type": "code",
   "execution_count": 6,
   "metadata": {},
   "outputs": [
    {
     "data": {
      "text/html": [
       "<div>\n",
       "<style scoped>\n",
       "    .dataframe tbody tr th:only-of-type {\n",
       "        vertical-align: middle;\n",
       "    }\n",
       "\n",
       "    .dataframe tbody tr th {\n",
       "        vertical-align: top;\n",
       "    }\n",
       "\n",
       "    .dataframe thead th {\n",
       "        text-align: right;\n",
       "    }\n",
       "</style>\n",
       "<table border=\"1\" class=\"dataframe\">\n",
       "  <thead>\n",
       "    <tr style=\"text-align: right;\">\n",
       "      <th></th>\n",
       "      <th>person</th>\n",
       "      <th>event</th>\n",
       "      <th>value</th>\n",
       "      <th>time</th>\n",
       "    </tr>\n",
       "  </thead>\n",
       "  <tbody>\n",
       "    <tr>\n",
       "      <th>0</th>\n",
       "      <td>78afa995795e4d85b5d9ceeca43f5fef</td>\n",
       "      <td>offer received</td>\n",
       "      <td>{'offer id': '9b98b8c7a33c4b65b9aebfe6a799e6d9'}</td>\n",
       "      <td>0</td>\n",
       "    </tr>\n",
       "    <tr>\n",
       "      <th>12650</th>\n",
       "      <td>389bc3fa690240e798340f5a15918d5c</td>\n",
       "      <td>offer viewed</td>\n",
       "      <td>{'offer id': 'f19421c1d4aa40978ebb69ca19b0e20d'}</td>\n",
       "      <td>0</td>\n",
       "    </tr>\n",
       "  </tbody>\n",
       "</table>\n",
       "</div>"
      ],
      "text/plain": [
       "                                 person           event  \\\n",
       "0      78afa995795e4d85b5d9ceeca43f5fef  offer received   \n",
       "12650  389bc3fa690240e798340f5a15918d5c    offer viewed   \n",
       "\n",
       "                                                  value  time  \n",
       "0      {'offer id': '9b98b8c7a33c4b65b9aebfe6a799e6d9'}     0  \n",
       "12650  {'offer id': 'f19421c1d4aa40978ebb69ca19b0e20d'}     0  "
      ]
     },
     "execution_count": 6,
     "metadata": {},
     "output_type": "execute_result"
    }
   ],
   "source": [
    "transcript.loc[[0,12650],:].head()"
   ]
  },
  {
   "cell_type": "code",
   "execution_count": 7,
   "metadata": {},
   "outputs": [
    {
     "data": {
      "text/plain": [
       "reward        0\n",
       "channels      0\n",
       "difficulty    0\n",
       "duration      0\n",
       "offer_type    0\n",
       "id            0\n",
       "dtype: int64"
      ]
     },
     "execution_count": 7,
     "metadata": {},
     "output_type": "execute_result"
    }
   ],
   "source": [
    "portfolio.isna().sum()"
   ]
  },
  {
   "cell_type": "code",
   "execution_count": 8,
   "metadata": {},
   "outputs": [
    {
     "data": {
      "text/plain": [
       "reward         int64\n",
       "channels      object\n",
       "difficulty     int64\n",
       "duration       int64\n",
       "offer_type    object\n",
       "id            object\n",
       "dtype: object"
      ]
     },
     "execution_count": 8,
     "metadata": {},
     "output_type": "execute_result"
    }
   ],
   "source": [
    "portfolio.dtypes"
   ]
  },
  {
   "cell_type": "code",
   "execution_count": 9,
   "metadata": {},
   "outputs": [
    {
     "data": {
      "text/plain": [
       "gender              2175\n",
       "age                    0\n",
       "id                     0\n",
       "became_member_on       0\n",
       "income              2175\n",
       "dtype: int64"
      ]
     },
     "execution_count": 9,
     "metadata": {},
     "output_type": "execute_result"
    }
   ],
   "source": [
    "profile.isna().sum()"
   ]
  },
  {
   "cell_type": "code",
   "execution_count": 10,
   "metadata": {},
   "outputs": [
    {
     "data": {
      "text/plain": [
       "gender               object\n",
       "age                   int64\n",
       "id                   object\n",
       "became_member_on      int64\n",
       "income              float64\n",
       "dtype: object"
      ]
     },
     "execution_count": 10,
     "metadata": {},
     "output_type": "execute_result"
    }
   ],
   "source": [
    "profile.dtypes"
   ]
  },
  {
   "cell_type": "code",
   "execution_count": 11,
   "metadata": {},
   "outputs": [
    {
     "data": {
      "text/plain": [
       "person    0\n",
       "event     0\n",
       "value     0\n",
       "time      0\n",
       "dtype: int64"
      ]
     },
     "execution_count": 11,
     "metadata": {},
     "output_type": "execute_result"
    }
   ],
   "source": [
    "transcript.isna().sum()"
   ]
  },
  {
   "cell_type": "code",
   "execution_count": 12,
   "metadata": {},
   "outputs": [
    {
     "data": {
      "text/plain": [
       "person    object\n",
       "event     object\n",
       "value     object\n",
       "time       int64\n",
       "dtype: object"
      ]
     },
     "execution_count": 12,
     "metadata": {},
     "output_type": "execute_result"
    }
   ],
   "source": [
    "transcript.dtypes"
   ]
  },
  {
   "cell_type": "markdown",
   "metadata": {},
   "source": [
    "## 2. Data Visualization"
   ]
  },
  {
   "cell_type": "code",
   "execution_count": 13,
   "metadata": {},
   "outputs": [
    {
     "data": {
      "image/png": "[encoded data removed]",
      "text/plain": [
       "<Figure size 2160x2880 with 4 Axes>"
      ]
     },
     "metadata": {},
     "output_type": "display_data"
    }
   ],
   "source": [
    "sns.set_theme(style=\"whitegrid\", palette=\"pastel\")\n",
    "fig, axes = plt.subplots(4, 1, figsize=(30,40))\n",
    "\n",
    "sns.distplot(ax= axes[0], a=profile['income'], kde=False, color=\"yellow\")\n",
    "axes[0].set_title('Income distribution',fontsize=20)\n",
    "\n",
    "profile.age.plot.hist(ax= axes[1], bins=20)\n",
    "axes[1].set_title('Age distribution',fontsize=20)\n",
    "\n",
    "sns.countplot(ax= axes[2],data=profile.fillna(\"NA\"), x=\"gender\")\n",
    "axes[2].set_title('Gender distribution',fontsize=20)\n",
    "\n",
    "# sns.countplot(ax= axes[3], data=transcript, x=\"event\")\n",
    "# axes[3].set_title('offer event',fontsize=20)\n",
    "\n",
    "event_dict = {'offer received': 0,\n",
    " 'offer viewed': 1,\n",
    " 'offer completed': 2,\n",
    " 'transaction': 3}\n",
    "funnel_plot_df = transcript.copy()\n",
    "funnel_plot_df.event = funnel_plot_df.event.map(event_dict)\n",
    "funnel_plot = funnel_plot_df.groupby([\"event\"]).count().reset_index().drop([\"value\",\"time\"], axis=1)\n",
    "sns.barplot(ax= axes[3], y=funnel_plot.person,x=[\"Received\",\"Viewed\",\"Completed\",\"Transaction\"])\n",
    "axes[3].set_title('offer event',fontsize=20)\n",
    "\n",
    "#plt.xtickslabels({\"Received\",\"Viewed\",\"Completed\",\"Transaction\"})\n",
    "\n",
    "\n",
    "for i in range(axes.shape[0]):\n",
    "    #for j in range(axes.shape[1]):\n",
    "#         axes[i,j].xaxis.label.set_size(20)\n",
    "#         axes[i,j].yaxis.label.set_size(20)\n",
    "#         plt.setp(axes[i,j].get_xticklabels(), fontsize=20)\n",
    "#         plt.setp(axes[i,j].get_yticklabels(), fontsize=20)\n",
    "        axes[i].xaxis.label.set_size(20)\n",
    "        axes[i].yaxis.label.set_size(20)\n",
    "        plt.setp(axes[i].get_xticklabels(), fontsize=20)\n",
    "        plt.setp(axes[i].get_yticklabels(), fontsize=20)"
   ]
  },
  {
   "cell_type": "code",
   "execution_count": 14,
   "metadata": {},
   "outputs": [
    {
     "data": {
      "text/plain": [
       "M    8484\n",
       "F    6129\n",
       "O     212\n",
       "Name: gender, dtype: int64"
      ]
     },
     "execution_count": 14,
     "metadata": {},
     "output_type": "execute_result"
    }
   ],
   "source": [
    "profile.gender.value_counts()"
   ]
  },
  {
   "cell_type": "code",
   "execution_count": 15,
   "metadata": {},
   "outputs": [
    {
     "data": {
      "text/plain": [
       "17000"
      ]
     },
     "execution_count": 15,
     "metadata": {},
     "output_type": "execute_result"
    }
   ],
   "source": [
    "len(profile.gender)"
   ]
  },
  {
   "cell_type": "code",
   "execution_count": 16,
   "metadata": {},
   "outputs": [
    {
     "data": {
      "text/plain": [
       "Series([], Name: income, dtype: int64)"
      ]
     },
     "execution_count": 16,
     "metadata": {},
     "output_type": "execute_result"
    }
   ],
   "source": [
    "profile[profile.gender.isna()][\"income\"].value_counts()"
   ]
  },
  {
   "cell_type": "code",
   "execution_count": 17,
   "metadata": {},
   "outputs": [
    {
     "data": {
      "text/plain": [
       "transaction        138953\n",
       "offer received      76277\n",
       "offer viewed        57725\n",
       "offer completed     33579\n",
       "Name: event, dtype: int64"
      ]
     },
     "execution_count": 17,
     "metadata": {},
     "output_type": "execute_result"
    }
   ],
   "source": [
    "transcript.event.value_counts()"
   ]
  },
  {
   "cell_type": "markdown",
   "metadata": {},
   "source": [
    "# Section - Methodology"
   ]
  },
  {
   "cell_type": "markdown",
   "metadata": {},
   "source": [
    "## 1 . Data Preprocessing"
   ]
  },
  {
   "cell_type": "markdown",
   "metadata": {},
   "source": [
    "Summary of the data analysis :\n",
    "1. There could be some outliers in the age distribution that needs to removed\n",
    "2. Gender distribution are having extra columns as None and 'Others'. This may need to be removed as well. \n",
    "3. There are same numbers of missing data for gender and income. They are found to be of the same rows as upon removing the rows with gender as 'NA'. Count of rows with income == 'NA' have disappeared.\n",
    "4. if all the offers completed could only come from offers viewed that in turn could only have come from offers that are received, the trend is in line showing a funnel like decreasing trend moving from one to another. \n",
    "5. The number of transactions, on the other hand, could only have come from customers who did not use or receive any offers. There might probably be some offer completed counts that are also in transaction counts."
   ]
  },
  {
   "cell_type": "code",
   "execution_count": 18,
   "metadata": {},
   "outputs": [],
   "source": [
    "#remove \"na\" data\n",
    "profile.dropna(subset=[\"gender\"],inplace=True)"
   ]
  },
  {
   "cell_type": "code",
   "execution_count": 19,
   "metadata": {},
   "outputs": [
    {
     "data": {
      "text/plain": [
       "gender              0\n",
       "age                 0\n",
       "id                  0\n",
       "became_member_on    0\n",
       "income              0\n",
       "dtype: int64"
      ]
     },
     "execution_count": 19,
     "metadata": {},
     "output_type": "execute_result"
    }
   ],
   "source": [
    "profile.isna().sum()"
   ]
  },
  {
   "cell_type": "code",
   "execution_count": 20,
   "metadata": {},
   "outputs": [
    {
     "data": {
      "image/png": "[encoded data removed]",
      "text/plain": [
       "<Figure size 432x288 with 1 Axes>"
      ]
     },
     "metadata": {},
     "output_type": "display_data"
    }
   ],
   "source": [
    "profile.age.plot.hist(bins=20)\n",
    "plt.show()"
   ]
  },
  {
   "cell_type": "markdown",
   "metadata": {},
   "source": [
    "Upon checking, the rows with age outliers are now gone, together with the income with \"NA\" as data. However, the gender that are classified as \"others\" are yet to be resolved. "
   ]
  },
  {
   "cell_type": "code",
   "execution_count": 21,
   "metadata": {},
   "outputs": [
    {
     "data": {
      "text/plain": [
       "M    8484\n",
       "F    6129\n",
       "O     212\n",
       "Name: gender, dtype: int64"
      ]
     },
     "execution_count": 21,
     "metadata": {},
     "output_type": "execute_result"
    }
   ],
   "source": [
    "profile.gender.value_counts()"
   ]
  },
  {
   "cell_type": "markdown",
   "metadata": {},
   "source": [
    "Given that the number of gender classified as others is small, it is proposed to have it remove as well. "
   ]
  },
  {
   "cell_type": "code",
   "execution_count": 22,
   "metadata": {},
   "outputs": [],
   "source": [
    "profile = profile[~(profile.gender == \"O\")]"
   ]
  },
  {
   "cell_type": "code",
   "execution_count": 23,
   "metadata": {},
   "outputs": [
    {
     "data": {
      "text/html": [
       "<div>\n",
       "<style scoped>\n",
       "    .dataframe tbody tr th:only-of-type {\n",
       "        vertical-align: middle;\n",
       "    }\n",
       "\n",
       "    .dataframe tbody tr th {\n",
       "        vertical-align: top;\n",
       "    }\n",
       "\n",
       "    .dataframe thead th {\n",
       "        text-align: right;\n",
       "    }\n",
       "</style>\n",
       "<table border=\"1\" class=\"dataframe\">\n",
       "  <thead>\n",
       "    <tr style=\"text-align: right;\">\n",
       "      <th></th>\n",
       "      <th>person</th>\n",
       "      <th>event</th>\n",
       "      <th>value</th>\n",
       "      <th>time</th>\n",
       "    </tr>\n",
       "  </thead>\n",
       "  <tbody>\n",
       "    <tr>\n",
       "      <th>0</th>\n",
       "      <td>78afa995795e4d85b5d9ceeca43f5fef</td>\n",
       "      <td>offer received</td>\n",
       "      <td>{'offer id': '9b98b8c7a33c4b65b9aebfe6a799e6d9'}</td>\n",
       "      <td>0</td>\n",
       "    </tr>\n",
       "    <tr>\n",
       "      <th>15561</th>\n",
       "      <td>78afa995795e4d85b5d9ceeca43f5fef</td>\n",
       "      <td>offer viewed</td>\n",
       "      <td>{'offer id': '9b98b8c7a33c4b65b9aebfe6a799e6d9'}</td>\n",
       "      <td>6</td>\n",
       "    </tr>\n",
       "    <tr>\n",
       "      <th>47582</th>\n",
       "      <td>78afa995795e4d85b5d9ceeca43f5fef</td>\n",
       "      <td>transaction</td>\n",
       "      <td>{'amount': 19.89}</td>\n",
       "      <td>132</td>\n",
       "    </tr>\n",
       "    <tr>\n",
       "      <th>47583</th>\n",
       "      <td>78afa995795e4d85b5d9ceeca43f5fef</td>\n",
       "      <td>offer completed</td>\n",
       "      <td>{'offer_id': '9b98b8c7a33c4b65b9aebfe6a799e6d9...</td>\n",
       "      <td>132</td>\n",
       "    </tr>\n",
       "    <tr>\n",
       "      <th>49502</th>\n",
       "      <td>78afa995795e4d85b5d9ceeca43f5fef</td>\n",
       "      <td>transaction</td>\n",
       "      <td>{'amount': 17.78}</td>\n",
       "      <td>144</td>\n",
       "    </tr>\n",
       "  </tbody>\n",
       "</table>\n",
       "</div>"
      ],
      "text/plain": [
       "                                 person            event  \\\n",
       "0      78afa995795e4d85b5d9ceeca43f5fef   offer received   \n",
       "15561  78afa995795e4d85b5d9ceeca43f5fef     offer viewed   \n",
       "47582  78afa995795e4d85b5d9ceeca43f5fef      transaction   \n",
       "47583  78afa995795e4d85b5d9ceeca43f5fef  offer completed   \n",
       "49502  78afa995795e4d85b5d9ceeca43f5fef      transaction   \n",
       "\n",
       "                                                   value  time  \n",
       "0       {'offer id': '9b98b8c7a33c4b65b9aebfe6a799e6d9'}     0  \n",
       "15561   {'offer id': '9b98b8c7a33c4b65b9aebfe6a799e6d9'}     6  \n",
       "47582                                  {'amount': 19.89}   132  \n",
       "47583  {'offer_id': '9b98b8c7a33c4b65b9aebfe6a799e6d9...   132  \n",
       "49502                                  {'amount': 17.78}   144  "
      ]
     },
     "execution_count": 23,
     "metadata": {},
     "output_type": "execute_result"
    }
   ],
   "source": [
    "transcript[transcript.person ==\"78afa995795e4d85b5d9ceeca43f5fef\"].head()"
   ]
  },
  {
   "cell_type": "markdown",
   "metadata": {},
   "source": [
    "The original transcript table captures the offer id that each customer either receives, views or completes in the “value” column. For any transaction, an amount spent is also being stored as a dictionary in the same “value” column. Let's extract the offer id out in a separate columns using the function below."
   ]
  },
  {
   "cell_type": "code",
   "execution_count": 24,
   "metadata": {},
   "outputs": [],
   "source": [
    "def split_offer_id_from_value(x,y):\n",
    "    a= \"transaction\"\n",
    "    b = \"\"\n",
    "    c= 0\n",
    "    if set([i for i in x.keys()]).intersection(set([\"offer id\"]))!=set():\n",
    "        a= x[\"offer id\"]\n",
    "    elif set([i for i in x.keys()]).intersection(set([\"offer_id\"]))!=set():\n",
    "        a= x[\"offer_id\"]\n",
    "    elif set([i for i in x.keys()]).intersection(set([\"amount\"]))!=set() and y ==\"transaction\":\n",
    "        b= x[\"amount\"]        \n",
    "    else:\n",
    "        a = None            \n",
    "        b= \"\"\n",
    "    if set([i for i in x.keys()]).intersection(set([\"reward\"]))!=set():\n",
    "        c= x[\"reward\"]\n",
    "    return [a,b,c]"
   ]
  },
  {
   "cell_type": "code",
   "execution_count": 25,
   "metadata": {},
   "outputs": [],
   "source": [
    "ext = transcript.apply(lambda x: split_offer_id_from_value(x[\"value\"],x[\"event\"]), axis=1)\n",
    "ext_df = pd.DataFrame(list(ext),columns = ['offer_id', 'amount_spent','reward_claimed'])"
   ]
  },
  {
   "cell_type": "markdown",
   "metadata": {},
   "source": [
    "offer_id split from the reward amount"
   ]
  },
  {
   "cell_type": "code",
   "execution_count": 26,
   "metadata": {},
   "outputs": [],
   "source": [
    "transcript = pd.concat([transcript,ext_df], axis=1)"
   ]
  },
  {
   "cell_type": "markdown",
   "metadata": {},
   "source": [
    "to check the offer_id split is the same as from the value columns"
   ]
  },
  {
   "cell_type": "code",
   "execution_count": 27,
   "metadata": {},
   "outputs": [
    {
     "data": {
      "text/html": [
       "<div>\n",
       "<style scoped>\n",
       "    .dataframe tbody tr th:only-of-type {\n",
       "        vertical-align: middle;\n",
       "    }\n",
       "\n",
       "    .dataframe tbody tr th {\n",
       "        vertical-align: top;\n",
       "    }\n",
       "\n",
       "    .dataframe thead th {\n",
       "        text-align: right;\n",
       "    }\n",
       "</style>\n",
       "<table border=\"1\" class=\"dataframe\">\n",
       "  <thead>\n",
       "    <tr style=\"text-align: right;\">\n",
       "      <th></th>\n",
       "      <th>person</th>\n",
       "      <th>event</th>\n",
       "      <th>time</th>\n",
       "      <th>offer_id</th>\n",
       "      <th>amount_spent</th>\n",
       "      <th>reward_claimed</th>\n",
       "    </tr>\n",
       "  </thead>\n",
       "  <tbody>\n",
       "    <tr>\n",
       "      <th>0</th>\n",
       "      <td>78afa995795e4d85b5d9ceeca43f5fef</td>\n",
       "      <td>offer received</td>\n",
       "      <td>0</td>\n",
       "      <td>9b98b8c7a33c4b65b9aebfe6a799e6d9</td>\n",
       "      <td>0.00</td>\n",
       "      <td>0</td>\n",
       "    </tr>\n",
       "    <tr>\n",
       "      <th>15561</th>\n",
       "      <td>78afa995795e4d85b5d9ceeca43f5fef</td>\n",
       "      <td>offer viewed</td>\n",
       "      <td>6</td>\n",
       "      <td>9b98b8c7a33c4b65b9aebfe6a799e6d9</td>\n",
       "      <td>0.00</td>\n",
       "      <td>0</td>\n",
       "    </tr>\n",
       "    <tr>\n",
       "      <th>47582</th>\n",
       "      <td>78afa995795e4d85b5d9ceeca43f5fef</td>\n",
       "      <td>transaction</td>\n",
       "      <td>132</td>\n",
       "      <td>transaction</td>\n",
       "      <td>19.89</td>\n",
       "      <td>0</td>\n",
       "    </tr>\n",
       "    <tr>\n",
       "      <th>47583</th>\n",
       "      <td>78afa995795e4d85b5d9ceeca43f5fef</td>\n",
       "      <td>offer completed</td>\n",
       "      <td>132</td>\n",
       "      <td>9b98b8c7a33c4b65b9aebfe6a799e6d9</td>\n",
       "      <td>0.00</td>\n",
       "      <td>5</td>\n",
       "    </tr>\n",
       "    <tr>\n",
       "      <th>49502</th>\n",
       "      <td>78afa995795e4d85b5d9ceeca43f5fef</td>\n",
       "      <td>transaction</td>\n",
       "      <td>144</td>\n",
       "      <td>transaction</td>\n",
       "      <td>17.78</td>\n",
       "      <td>0</td>\n",
       "    </tr>\n",
       "  </tbody>\n",
       "</table>\n",
       "</div>"
      ],
      "text/plain": [
       "                                 person            event  time  \\\n",
       "0      78afa995795e4d85b5d9ceeca43f5fef   offer received     0   \n",
       "15561  78afa995795e4d85b5d9ceeca43f5fef     offer viewed     6   \n",
       "47582  78afa995795e4d85b5d9ceeca43f5fef      transaction   132   \n",
       "47583  78afa995795e4d85b5d9ceeca43f5fef  offer completed   132   \n",
       "49502  78afa995795e4d85b5d9ceeca43f5fef      transaction   144   \n",
       "\n",
       "                               offer_id  amount_spent  reward_claimed  \n",
       "0      9b98b8c7a33c4b65b9aebfe6a799e6d9          0.00               0  \n",
       "15561  9b98b8c7a33c4b65b9aebfe6a799e6d9          0.00               0  \n",
       "47582                       transaction         19.89               0  \n",
       "47583  9b98b8c7a33c4b65b9aebfe6a799e6d9          0.00               5  \n",
       "49502                       transaction         17.78               0  "
      ]
     },
     "execution_count": 27,
     "metadata": {},
     "output_type": "execute_result"
    }
   ],
   "source": [
    "transcript = transcript.drop([\"value\"],axis=1)\n",
    "transcript[\"amount_spent\"] = transcript[\"amount_spent\"].apply(lambda x: x.replace(\"\",\"0\") if x==\"\" else x)\n",
    "transcript[\"amount_spent\"] = transcript[\"amount_spent\"].apply(lambda x: float(x))\n",
    "transcript[transcript.person ==\"78afa995795e4d85b5d9ceeca43f5fef\"].head()"
   ]
  },
  {
   "cell_type": "markdown",
   "metadata": {},
   "source": [
    "Now, to look up the personal demographic details of the user. We would need to combine the user_id and offer_id interaction together. This is for treating each user's response to an offer separately. For instance, user A's response to offer A will be recorded as n records even if the user receives n times of the same offer. We want a count column to enumerate the number of times A receives offer A, which can be achieved using the cumcount function"
   ]
  },
  {
   "cell_type": "code",
   "execution_count": 28,
   "metadata": {},
   "outputs": [],
   "source": [
    "transcript[\"cum_count\"] =transcript.groupby([\"person\",\"offer_id\",transcript.event==\"offer received\"]).cumcount()+1"
   ]
  },
  {
   "cell_type": "markdown",
   "metadata": {},
   "source": [
    "Before going further, the data should be examined for the difference types of completion rates among the offer. "
   ]
  },
  {
   "cell_type": "code",
   "execution_count": 29,
   "metadata": {},
   "outputs": [],
   "source": [
    "df_all = transcript.copy(deep=True)\n",
    "df_all=df_all.merge(profile,left_on=\"person\", right_on=\"id\",how=\"left\").drop([\"id\"], axis=1)\n",
    "df_all=df_all.merge(portfolio,left_on=\"offer_id\", right_on=\"id\",how=\"left\").drop([\"id\"], axis=1)"
   ]
  },
  {
   "cell_type": "markdown",
   "metadata": {},
   "source": [
    "What can be seen is that the \"completed offer\" status only captures the discount type offer and the BOGO offer. It is though understandable that the informational offer is not being captured, as technically it may not count as an offer. Hence, we would still need another method to capture the information of how effective the informational offer has been. \n",
    "\n",
    "As the dataset is only applicable to ONE product, this makes it easier for the simplification that if a user, views and purchases a drink within the validity period, it can be counted that the effect is felt from the informational offers sent. In contrast, as with the other offers, if the offers are not viewed but purchases are completed within the valid periods, these would not be considered as the effect of the promotional offers. "
   ]
  },
  {
   "cell_type": "code",
   "execution_count": 30,
   "metadata": {},
   "outputs": [
    {
     "data": {
      "image/png": "[encoded data removed]",
      "text/plain": [
       "<Figure size 432x288 with 1 Axes>"
      ]
     },
     "metadata": {},
     "output_type": "display_data"
    }
   ],
   "source": [
    "sns.countplot(data=df_all[df_all.event==\"offer completed\"], x=\"offer_type\").set_title('offer event',fontsize=20)\n",
    "plt.show()"
   ]
  },
  {
   "cell_type": "code",
   "execution_count": 31,
   "metadata": {},
   "outputs": [],
   "source": [
    "df_sub = df_all.copy().sort_values([\"person\",\"time\"]).reset_index()\n",
    "#df_sub = df_sub.loc[216210:216241]\n",
    "df_sub[\"Transaction_From_Offer\"] = False\n",
    "df_sub[\"Which_Offer\"] = 100\n",
    "df_sub[\"Related_Offer_Id\"] = \"\"\n",
    "for i in range(0,16):\n",
    "    df_sub[f\"event_{i}\"]= df_sub[\"event\"].shift(i)\n",
    "    df_sub[f\"person_{i}\"]= df_sub[\"person\"].shift(i)\n",
    "    df_sub[f\"time_{i}\"]= df_sub[\"time\"].shift(i)\n",
    "    df_sub[f\"duration_{i}\"]= df_sub[\"duration\"].shift(i)\n",
    "    df_sub[f\"difficulty_{i}\"] = df_sub[\"difficulty\"].shift(i)\n",
    "    df_sub[f\"valid_offer_{i}\"] = ((df_sub[f\"event_{i}\"]==\"offer received\") & (df_sub[f\"person_{i}\"]==df_sub[\"person\"]) & (df_sub[\"time\"]-df_sub[f\"time_{i}\"]<=df_sub[f\"duration_{i}\"])& (df_sub[\"amount_spent\"]>df_sub[f\"difficulty_{i}\"]))\n",
    "    df_sub[f\"Which_Offer_{i}\"] = (df_sub[\"cum_count\"].shift(i))*((df_sub[f\"event_{i}\"]==\"offer received\") & (df_sub[f\"person_{i}\"]==df_sub[\"person\"]))\n",
    "    df_sub[f\"Related_Offer_Id_{i}\"] = (df_sub[\"offer_id\"].shift(i))*((df_sub[f\"event_{i}\"]==\"offer received\") & (df_sub[f\"person_{i}\"]==df_sub[\"person\"]))\n",
    "    df_sub[f\"Related_Offer_Id_{i}\"].replace(np.NaN,\"\", inplace=True)\n",
    "    df_sub[f\"Which_Offer_{i}\"] = (df_sub[f\"Which_Offer_{i}\"]==0)*100+df_sub[f\"Which_Offer_{i}\"]\n",
    "    df_sub[\"Related_Offer_Id\"] = df_sub[\"Related_Offer_Id\"] + (df_sub[\"Related_Offer_Id\"]==\"\")*(df_sub[f\"Related_Offer_Id_{i}\"])\n",
    "    df_sub[\"Transaction_From_Offer\"] = (df_sub[\"Transaction_From_Offer\"]==True) | (df_sub[f\"valid_offer_{i}\"]==True)\n",
    "    df_sub[\"Transaction_From_Offer\"] = (df_sub[\"Transaction_From_Offer\"]==True)  & (df_sub[\"event\"]==\"transaction\")\n",
    "    df_sub[\"Which_Offer\"] = df_sub[[\"Which_Offer\",f\"Which_Offer_{i}\"]].min(axis=1)\n",
    "    df_sub= df_sub.drop([f\"event_{i}\",f\"person_{i}\",f\"time_{i}\",f\"duration_{i}\",f\"valid_offer_{i}\",f\"difficulty_{i}\",f\"Which_Offer_{i}\",f\"Related_Offer_Id_{i}\"], axis=1)"
   ]
  },
  {
   "cell_type": "markdown",
   "metadata": {},
   "source": [
    "We have populated each transaction with an applicable offer id as the column \"Related Offer_Id\". As opposed to the raw data, where each transaction related line is having a \"Not an Offer\" field in the column \"Offer_id\". As such, let's do a map to the portfolio details once again using the \"Related Offer_Id\" this time. Before that, it is appropriate to remove the columns of data mapped from the \"Offer_id\" first. "
   ]
  },
  {
   "cell_type": "code",
   "execution_count": 32,
   "metadata": {},
   "outputs": [],
   "source": [
    "df_sub = df_sub.drop([\"reward\",\"channels\",\"duration\",\"difficulty\",\"offer_type\"], axis=1)\n",
    "df_sub=df_sub.merge(portfolio,left_on=\"Related_Offer_Id\", right_on=\"id\",how=\"left\").drop([\"id\"], axis=1)"
   ]
  },
  {
   "cell_type": "markdown",
   "metadata": {},
   "source": [
    "Adding a membership terms in years"
   ]
  },
  {
   "cell_type": "code",
   "execution_count": 33,
   "metadata": {},
   "outputs": [],
   "source": [
    "df_sub[\"membership_terms(y)\"] =  datetime.datetime.today().year-pd.to_datetime(df_sub[\"became_member_on\"], format='%Y%m%d').dt.year"
   ]
  },
  {
   "cell_type": "code",
   "execution_count": 34,
   "metadata": {},
   "outputs": [],
   "source": [
    "df_sub[\"personxoffer_id\"] = df_sub[\"person\"]+df_sub[\"Related_Offer_Id\"]+str(df_sub[\"Which_Offer\"])"
   ]
  },
  {
   "cell_type": "code",
   "execution_count": 35,
   "metadata": {},
   "outputs": [
    {
     "data": {
      "text/html": [
       "<div>\n",
       "<style scoped>\n",
       "    .dataframe tbody tr th:only-of-type {\n",
       "        vertical-align: middle;\n",
       "    }\n",
       "\n",
       "    .dataframe tbody tr th {\n",
       "        vertical-align: top;\n",
       "    }\n",
       "\n",
       "    .dataframe thead th {\n",
       "        text-align: right;\n",
       "    }\n",
       "</style>\n",
       "<table border=\"1\" class=\"dataframe\">\n",
       "  <thead>\n",
       "    <tr style=\"text-align: right;\">\n",
       "      <th></th>\n",
       "      <th>index</th>\n",
       "      <th>person</th>\n",
       "      <th>event</th>\n",
       "      <th>time</th>\n",
       "      <th>offer_id</th>\n",
       "      <th>amount_spent</th>\n",
       "      <th>reward_claimed</th>\n",
       "      <th>cum_count</th>\n",
       "      <th>gender</th>\n",
       "      <th>age</th>\n",
       "      <th>became_member_on</th>\n",
       "      <th>income</th>\n",
       "      <th>Transaction_From_Offer</th>\n",
       "      <th>Which_Offer</th>\n",
       "      <th>Related_Offer_Id</th>\n",
       "      <th>reward</th>\n",
       "      <th>channels</th>\n",
       "      <th>difficulty</th>\n",
       "      <th>duration</th>\n",
       "      <th>offer_type</th>\n",
       "      <th>membership_terms(y)</th>\n",
       "      <th>personxoffer_id</th>\n",
       "    </tr>\n",
       "  </thead>\n",
       "  <tbody>\n",
       "    <tr>\n",
       "      <th>0</th>\n",
       "      <td>55972</td>\n",
       "      <td>0009655768c64bdeb2e877511632db8f</td>\n",
       "      <td>offer received</td>\n",
       "      <td>168</td>\n",
       "      <td>5a8bc65990b245e5a138643cd4eb9837</td>\n",
       "      <td>0.00</td>\n",
       "      <td>0</td>\n",
       "      <td>1</td>\n",
       "      <td>M</td>\n",
       "      <td>33.0</td>\n",
       "      <td>20170421.0</td>\n",
       "      <td>72000.0</td>\n",
       "      <td>False</td>\n",
       "      <td>1.0</td>\n",
       "      <td>5a8bc65990b245e5a138643cd4eb9837</td>\n",
       "      <td>0.0</td>\n",
       "      <td>[email, mobile, social]</td>\n",
       "      <td>0.0</td>\n",
       "      <td>3.0</td>\n",
       "      <td>informational</td>\n",
       "      <td>5.0</td>\n",
       "      <td>0009655768c64bdeb2e877511632db8f5a8bc65990b245...</td>\n",
       "    </tr>\n",
       "    <tr>\n",
       "      <th>1</th>\n",
       "      <td>77705</td>\n",
       "      <td>0009655768c64bdeb2e877511632db8f</td>\n",
       "      <td>offer viewed</td>\n",
       "      <td>192</td>\n",
       "      <td>5a8bc65990b245e5a138643cd4eb9837</td>\n",
       "      <td>0.00</td>\n",
       "      <td>0</td>\n",
       "      <td>1</td>\n",
       "      <td>M</td>\n",
       "      <td>33.0</td>\n",
       "      <td>20170421.0</td>\n",
       "      <td>72000.0</td>\n",
       "      <td>False</td>\n",
       "      <td>1.0</td>\n",
       "      <td>5a8bc65990b245e5a138643cd4eb9837</td>\n",
       "      <td>0.0</td>\n",
       "      <td>[email, mobile, social]</td>\n",
       "      <td>0.0</td>\n",
       "      <td>3.0</td>\n",
       "      <td>informational</td>\n",
       "      <td>5.0</td>\n",
       "      <td>0009655768c64bdeb2e877511632db8f5a8bc65990b245...</td>\n",
       "    </tr>\n",
       "    <tr>\n",
       "      <th>2</th>\n",
       "      <td>89291</td>\n",
       "      <td>0009655768c64bdeb2e877511632db8f</td>\n",
       "      <td>transaction</td>\n",
       "      <td>228</td>\n",
       "      <td>transaction</td>\n",
       "      <td>22.16</td>\n",
       "      <td>0</td>\n",
       "      <td>1</td>\n",
       "      <td>M</td>\n",
       "      <td>33.0</td>\n",
       "      <td>20170421.0</td>\n",
       "      <td>72000.0</td>\n",
       "      <td>False</td>\n",
       "      <td>1.0</td>\n",
       "      <td>5a8bc65990b245e5a138643cd4eb9837</td>\n",
       "      <td>0.0</td>\n",
       "      <td>[email, mobile, social]</td>\n",
       "      <td>0.0</td>\n",
       "      <td>3.0</td>\n",
       "      <td>informational</td>\n",
       "      <td>5.0</td>\n",
       "      <td>0009655768c64bdeb2e877511632db8f5a8bc65990b245...</td>\n",
       "    </tr>\n",
       "    <tr>\n",
       "      <th>3</th>\n",
       "      <td>113605</td>\n",
       "      <td>0009655768c64bdeb2e877511632db8f</td>\n",
       "      <td>offer received</td>\n",
       "      <td>336</td>\n",
       "      <td>3f207df678b143eea3cee63160fa8bed</td>\n",
       "      <td>0.00</td>\n",
       "      <td>0</td>\n",
       "      <td>1</td>\n",
       "      <td>M</td>\n",
       "      <td>33.0</td>\n",
       "      <td>20170421.0</td>\n",
       "      <td>72000.0</td>\n",
       "      <td>False</td>\n",
       "      <td>1.0</td>\n",
       "      <td>3f207df678b143eea3cee63160fa8bed</td>\n",
       "      <td>0.0</td>\n",
       "      <td>[web, email, mobile]</td>\n",
       "      <td>0.0</td>\n",
       "      <td>4.0</td>\n",
       "      <td>informational</td>\n",
       "      <td>5.0</td>\n",
       "      <td>0009655768c64bdeb2e877511632db8f3f207df678b143...</td>\n",
       "    </tr>\n",
       "    <tr>\n",
       "      <th>4</th>\n",
       "      <td>139992</td>\n",
       "      <td>0009655768c64bdeb2e877511632db8f</td>\n",
       "      <td>offer viewed</td>\n",
       "      <td>372</td>\n",
       "      <td>3f207df678b143eea3cee63160fa8bed</td>\n",
       "      <td>0.00</td>\n",
       "      <td>0</td>\n",
       "      <td>1</td>\n",
       "      <td>M</td>\n",
       "      <td>33.0</td>\n",
       "      <td>20170421.0</td>\n",
       "      <td>72000.0</td>\n",
       "      <td>False</td>\n",
       "      <td>1.0</td>\n",
       "      <td>3f207df678b143eea3cee63160fa8bed</td>\n",
       "      <td>0.0</td>\n",
       "      <td>[web, email, mobile]</td>\n",
       "      <td>0.0</td>\n",
       "      <td>4.0</td>\n",
       "      <td>informational</td>\n",
       "      <td>5.0</td>\n",
       "      <td>0009655768c64bdeb2e877511632db8f3f207df678b143...</td>\n",
       "    </tr>\n",
       "  </tbody>\n",
       "</table>\n",
       "</div>"
      ],
      "text/plain": [
       "    index                            person           event  time  \\\n",
       "0   55972  0009655768c64bdeb2e877511632db8f  offer received   168   \n",
       "1   77705  0009655768c64bdeb2e877511632db8f    offer viewed   192   \n",
       "2   89291  0009655768c64bdeb2e877511632db8f     transaction   228   \n",
       "3  113605  0009655768c64bdeb2e877511632db8f  offer received   336   \n",
       "4  139992  0009655768c64bdeb2e877511632db8f    offer viewed   372   \n",
       "\n",
       "                           offer_id  amount_spent  reward_claimed  cum_count  \\\n",
       "0  5a8bc65990b245e5a138643cd4eb9837          0.00               0          1   \n",
       "1  5a8bc65990b245e5a138643cd4eb9837          0.00               0          1   \n",
       "2                       transaction         22.16               0          1   \n",
       "3  3f207df678b143eea3cee63160fa8bed          0.00               0          1   \n",
       "4  3f207df678b143eea3cee63160fa8bed          0.00               0          1   \n",
       "\n",
       "  gender   age  became_member_on   income  Transaction_From_Offer  \\\n",
       "0      M  33.0        20170421.0  72000.0                   False   \n",
       "1      M  33.0        20170421.0  72000.0                   False   \n",
       "2      M  33.0        20170421.0  72000.0                   False   \n",
       "3      M  33.0        20170421.0  72000.0                   False   \n",
       "4      M  33.0        20170421.0  72000.0                   False   \n",
       "\n",
       "   Which_Offer                  Related_Offer_Id  reward  \\\n",
       "0          1.0  5a8bc65990b245e5a138643cd4eb9837     0.0   \n",
       "1          1.0  5a8bc65990b245e5a138643cd4eb9837     0.0   \n",
       "2          1.0  5a8bc65990b245e5a138643cd4eb9837     0.0   \n",
       "3          1.0  3f207df678b143eea3cee63160fa8bed     0.0   \n",
       "4          1.0  3f207df678b143eea3cee63160fa8bed     0.0   \n",
       "\n",
       "                  channels  difficulty  duration     offer_type  \\\n",
       "0  [email, mobile, social]         0.0       3.0  informational   \n",
       "1  [email, mobile, social]         0.0       3.0  informational   \n",
       "2  [email, mobile, social]         0.0       3.0  informational   \n",
       "3     [web, email, mobile]         0.0       4.0  informational   \n",
       "4     [web, email, mobile]         0.0       4.0  informational   \n",
       "\n",
       "   membership_terms(y)                                    personxoffer_id  \n",
       "0                  5.0  0009655768c64bdeb2e877511632db8f5a8bc65990b245...  \n",
       "1                  5.0  0009655768c64bdeb2e877511632db8f5a8bc65990b245...  \n",
       "2                  5.0  0009655768c64bdeb2e877511632db8f5a8bc65990b245...  \n",
       "3                  5.0  0009655768c64bdeb2e877511632db8f3f207df678b143...  \n",
       "4                  5.0  0009655768c64bdeb2e877511632db8f3f207df678b143...  "
      ]
     },
     "execution_count": 35,
     "metadata": {},
     "output_type": "execute_result"
    }
   ],
   "source": [
    "df_sub.head()"
   ]
  },
  {
   "cell_type": "code",
   "execution_count": 36,
   "metadata": {},
   "outputs": [],
   "source": [
    "offer_time = df_sub[[\"personxoffer_id\",\"time\"]][df_sub.event==\"offer received\"]\n",
    "offer_time = dict(zip(offer_time.personxoffer_id,offer_time.time))\n",
    "df_sub[\"time_of_offer\"] = df_sub[\"personxoffer_id\"].map(offer_time)"
   ]
  },
  {
   "cell_type": "code",
   "execution_count": 37,
   "metadata": {},
   "outputs": [],
   "source": [
    "df_sub[\"viewed before buy\"] = (df_sub.event==\"offer viewed\")*(df_sub.time-df_sub[\"time_of_offer\"]<=df_sub[\"duration\"])"
   ]
  },
  {
   "cell_type": "code",
   "execution_count": 38,
   "metadata": {},
   "outputs": [],
   "source": [
    "#find the users who have viewed offers only\n",
    "respond_1= df_sub[[\"personxoffer_id\",\"index\"]][df_sub[\"viewed before buy\"]==True]\n",
    "len((respond_1.drop_duplicates()))\n",
    "respond_1[\"viewed before buy\"] = True\n",
    "respond_1 = dict(zip(respond_1[\"personxoffer_id\"],respond_1[\"viewed before buy\"]))\n",
    "respond_2 = df_sub[[\"personxoffer_id\",\"index\"]][df_sub[\"event\"]==\"offer viewed\"]\n",
    "respond_2[\"hasViewed\"] = True\n",
    "respond_2 = dict(zip(respond_2[\"personxoffer_id\"],respond_2[\"hasViewed\"]))\n",
    "respond_3=df_sub[[\"personxoffer_id\",\"event\"]].copy(deep=True)\n",
    "respond_3[\"hasCompleted\"] = respond_3.apply(lambda x: True if x[\"event\"]==\"offer completed\" else False, axis=1)\n",
    "respond_3 =respond_3.sort_values([\"hasCompleted\"])\n",
    "respond_3 =dict(list(zip(respond_3['personxoffer_id'], respond_3['hasCompleted'])))"
   ]
  },
  {
   "cell_type": "code",
   "execution_count": 39,
   "metadata": {},
   "outputs": [],
   "source": [
    "respond_4 = df_sub[[\"personxoffer_id\",\"reward_claimed\"]][df_sub[\"reward_claimed\"]!=0]\n",
    "respond_4 =dict(list(zip(respond_4['personxoffer_id'], respond_4['reward_claimed'])))\n",
    "respond_5 = df_sub[[\"personxoffer_id\",\"amount_spent\"]][df_sub[\"amount_spent\"]!=0]\n",
    "respond_5 =dict(list(zip(respond_5['personxoffer_id'], respond_5['amount_spent'])))"
   ]
  },
  {
   "cell_type": "code",
   "execution_count": 40,
   "metadata": {},
   "outputs": [],
   "source": [
    "df_sub[\"hasViewed_on_time\"] = df_sub[\"personxoffer_id\"].map(respond_1)\n",
    "df_sub[\"hasViewed_on_time\"].replace(np.NaN,False,inplace=True)\n",
    "df_sub[\"hasViewed\"] = df_sub[\"personxoffer_id\"].map(respond_2)\n",
    "df_sub[\"hasViewed\"].replace(np.NaN,False,inplace=True)\n",
    "df_sub[\"hasCompleted\"] = df_sub[\"personxoffer_id\"].map(respond_3)\n",
    "df_sub[\"hasCompleted\"].replace(np.NaN,False,inplace=True)\n",
    "df_sub = df_sub.drop([\"viewed before buy\"], axis =1)\n",
    "df_sub[\"reward_claimed\"] = df_sub[\"personxoffer_id\"].map(respond_4)\n",
    "df_sub[\"reward_claimed\"].replace(np.NaN,0,inplace=True)\n",
    "df_sub[\"amount_spent\"] = df_sub[\"personxoffer_id\"].map(respond_5)\n",
    "df_sub[\"amount_spent\"].replace(np.NaN,0,inplace=True)"
   ]
  },
  {
   "cell_type": "code",
   "execution_count": 41,
   "metadata": {},
   "outputs": [
    {
     "data": {
      "text/html": [
       "<div>\n",
       "<style scoped>\n",
       "    .dataframe tbody tr th:only-of-type {\n",
       "        vertical-align: middle;\n",
       "    }\n",
       "\n",
       "    .dataframe tbody tr th {\n",
       "        vertical-align: top;\n",
       "    }\n",
       "\n",
       "    .dataframe thead th {\n",
       "        text-align: right;\n",
       "    }\n",
       "</style>\n",
       "<table border=\"1\" class=\"dataframe\">\n",
       "  <thead>\n",
       "    <tr style=\"text-align: right;\">\n",
       "      <th></th>\n",
       "      <th>index</th>\n",
       "      <th>person</th>\n",
       "      <th>event</th>\n",
       "      <th>time</th>\n",
       "      <th>offer_id</th>\n",
       "      <th>amount_spent</th>\n",
       "      <th>reward_claimed</th>\n",
       "      <th>cum_count</th>\n",
       "      <th>gender</th>\n",
       "      <th>age</th>\n",
       "      <th>became_member_on</th>\n",
       "      <th>income</th>\n",
       "      <th>Transaction_From_Offer</th>\n",
       "      <th>Which_Offer</th>\n",
       "      <th>Related_Offer_Id</th>\n",
       "      <th>reward</th>\n",
       "      <th>channels</th>\n",
       "      <th>difficulty</th>\n",
       "      <th>duration</th>\n",
       "      <th>offer_type</th>\n",
       "      <th>membership_terms(y)</th>\n",
       "      <th>personxoffer_id</th>\n",
       "      <th>time_of_offer</th>\n",
       "      <th>hasViewed_on_time</th>\n",
       "      <th>hasViewed</th>\n",
       "      <th>hasCompleted</th>\n",
       "    </tr>\n",
       "  </thead>\n",
       "  <tbody>\n",
       "    <tr>\n",
       "      <th>0</th>\n",
       "      <td>55972</td>\n",
       "      <td>0009655768c64bdeb2e877511632db8f</td>\n",
       "      <td>offer received</td>\n",
       "      <td>168</td>\n",
       "      <td>5a8bc65990b245e5a138643cd4eb9837</td>\n",
       "      <td>22.16</td>\n",
       "      <td>0.0</td>\n",
       "      <td>1</td>\n",
       "      <td>M</td>\n",
       "      <td>33.0</td>\n",
       "      <td>20170421.0</td>\n",
       "      <td>72000.0</td>\n",
       "      <td>False</td>\n",
       "      <td>1.0</td>\n",
       "      <td>5a8bc65990b245e5a138643cd4eb9837</td>\n",
       "      <td>0.0</td>\n",
       "      <td>[email, mobile, social]</td>\n",
       "      <td>0.0</td>\n",
       "      <td>3.0</td>\n",
       "      <td>informational</td>\n",
       "      <td>5.0</td>\n",
       "      <td>0009655768c64bdeb2e877511632db8f5a8bc65990b245...</td>\n",
       "      <td>168.0</td>\n",
       "      <td>False</td>\n",
       "      <td>True</td>\n",
       "      <td>False</td>\n",
       "    </tr>\n",
       "    <tr>\n",
       "      <th>1</th>\n",
       "      <td>77705</td>\n",
       "      <td>0009655768c64bdeb2e877511632db8f</td>\n",
       "      <td>offer viewed</td>\n",
       "      <td>192</td>\n",
       "      <td>5a8bc65990b245e5a138643cd4eb9837</td>\n",
       "      <td>22.16</td>\n",
       "      <td>0.0</td>\n",
       "      <td>1</td>\n",
       "      <td>M</td>\n",
       "      <td>33.0</td>\n",
       "      <td>20170421.0</td>\n",
       "      <td>72000.0</td>\n",
       "      <td>False</td>\n",
       "      <td>1.0</td>\n",
       "      <td>5a8bc65990b245e5a138643cd4eb9837</td>\n",
       "      <td>0.0</td>\n",
       "      <td>[email, mobile, social]</td>\n",
       "      <td>0.0</td>\n",
       "      <td>3.0</td>\n",
       "      <td>informational</td>\n",
       "      <td>5.0</td>\n",
       "      <td>0009655768c64bdeb2e877511632db8f5a8bc65990b245...</td>\n",
       "      <td>168.0</td>\n",
       "      <td>False</td>\n",
       "      <td>True</td>\n",
       "      <td>False</td>\n",
       "    </tr>\n",
       "    <tr>\n",
       "      <th>2</th>\n",
       "      <td>89291</td>\n",
       "      <td>0009655768c64bdeb2e877511632db8f</td>\n",
       "      <td>transaction</td>\n",
       "      <td>228</td>\n",
       "      <td>transaction</td>\n",
       "      <td>22.16</td>\n",
       "      <td>0.0</td>\n",
       "      <td>1</td>\n",
       "      <td>M</td>\n",
       "      <td>33.0</td>\n",
       "      <td>20170421.0</td>\n",
       "      <td>72000.0</td>\n",
       "      <td>False</td>\n",
       "      <td>1.0</td>\n",
       "      <td>5a8bc65990b245e5a138643cd4eb9837</td>\n",
       "      <td>0.0</td>\n",
       "      <td>[email, mobile, social]</td>\n",
       "      <td>0.0</td>\n",
       "      <td>3.0</td>\n",
       "      <td>informational</td>\n",
       "      <td>5.0</td>\n",
       "      <td>0009655768c64bdeb2e877511632db8f5a8bc65990b245...</td>\n",
       "      <td>168.0</td>\n",
       "      <td>False</td>\n",
       "      <td>True</td>\n",
       "      <td>False</td>\n",
       "    </tr>\n",
       "    <tr>\n",
       "      <th>3</th>\n",
       "      <td>113605</td>\n",
       "      <td>0009655768c64bdeb2e877511632db8f</td>\n",
       "      <td>offer received</td>\n",
       "      <td>336</td>\n",
       "      <td>3f207df678b143eea3cee63160fa8bed</td>\n",
       "      <td>0.00</td>\n",
       "      <td>0.0</td>\n",
       "      <td>1</td>\n",
       "      <td>M</td>\n",
       "      <td>33.0</td>\n",
       "      <td>20170421.0</td>\n",
       "      <td>72000.0</td>\n",
       "      <td>False</td>\n",
       "      <td>1.0</td>\n",
       "      <td>3f207df678b143eea3cee63160fa8bed</td>\n",
       "      <td>0.0</td>\n",
       "      <td>[web, email, mobile]</td>\n",
       "      <td>0.0</td>\n",
       "      <td>4.0</td>\n",
       "      <td>informational</td>\n",
       "      <td>5.0</td>\n",
       "      <td>0009655768c64bdeb2e877511632db8f3f207df678b143...</td>\n",
       "      <td>336.0</td>\n",
       "      <td>False</td>\n",
       "      <td>True</td>\n",
       "      <td>False</td>\n",
       "    </tr>\n",
       "    <tr>\n",
       "      <th>4</th>\n",
       "      <td>139992</td>\n",
       "      <td>0009655768c64bdeb2e877511632db8f</td>\n",
       "      <td>offer viewed</td>\n",
       "      <td>372</td>\n",
       "      <td>3f207df678b143eea3cee63160fa8bed</td>\n",
       "      <td>0.00</td>\n",
       "      <td>0.0</td>\n",
       "      <td>1</td>\n",
       "      <td>M</td>\n",
       "      <td>33.0</td>\n",
       "      <td>20170421.0</td>\n",
       "      <td>72000.0</td>\n",
       "      <td>False</td>\n",
       "      <td>1.0</td>\n",
       "      <td>3f207df678b143eea3cee63160fa8bed</td>\n",
       "      <td>0.0</td>\n",
       "      <td>[web, email, mobile]</td>\n",
       "      <td>0.0</td>\n",
       "      <td>4.0</td>\n",
       "      <td>informational</td>\n",
       "      <td>5.0</td>\n",
       "      <td>0009655768c64bdeb2e877511632db8f3f207df678b143...</td>\n",
       "      <td>336.0</td>\n",
       "      <td>False</td>\n",
       "      <td>True</td>\n",
       "      <td>False</td>\n",
       "    </tr>\n",
       "  </tbody>\n",
       "</table>\n",
       "</div>"
      ],
      "text/plain": [
       "    index                            person           event  time  \\\n",
       "0   55972  0009655768c64bdeb2e877511632db8f  offer received   168   \n",
       "1   77705  0009655768c64bdeb2e877511632db8f    offer viewed   192   \n",
       "2   89291  0009655768c64bdeb2e877511632db8f     transaction   228   \n",
       "3  113605  0009655768c64bdeb2e877511632db8f  offer received   336   \n",
       "4  139992  0009655768c64bdeb2e877511632db8f    offer viewed   372   \n",
       "\n",
       "                           offer_id  amount_spent  reward_claimed  cum_count  \\\n",
       "0  5a8bc65990b245e5a138643cd4eb9837         22.16             0.0          1   \n",
       "1  5a8bc65990b245e5a138643cd4eb9837         22.16             0.0          1   \n",
       "2                       transaction         22.16             0.0          1   \n",
       "3  3f207df678b143eea3cee63160fa8bed          0.00             0.0          1   \n",
       "4  3f207df678b143eea3cee63160fa8bed          0.00             0.0          1   \n",
       "\n",
       "  gender   age  became_member_on   income  Transaction_From_Offer  \\\n",
       "0      M  33.0        20170421.0  72000.0                   False   \n",
       "1      M  33.0        20170421.0  72000.0                   False   \n",
       "2      M  33.0        20170421.0  72000.0                   False   \n",
       "3      M  33.0        20170421.0  72000.0                   False   \n",
       "4      M  33.0        20170421.0  72000.0                   False   \n",
       "\n",
       "   Which_Offer                  Related_Offer_Id  reward  \\\n",
       "0          1.0  5a8bc65990b245e5a138643cd4eb9837     0.0   \n",
       "1          1.0  5a8bc65990b245e5a138643cd4eb9837     0.0   \n",
       "2          1.0  5a8bc65990b245e5a138643cd4eb9837     0.0   \n",
       "3          1.0  3f207df678b143eea3cee63160fa8bed     0.0   \n",
       "4          1.0  3f207df678b143eea3cee63160fa8bed     0.0   \n",
       "\n",
       "                  channels  difficulty  duration     offer_type  \\\n",
       "0  [email, mobile, social]         0.0       3.0  informational   \n",
       "1  [email, mobile, social]         0.0       3.0  informational   \n",
       "2  [email, mobile, social]         0.0       3.0  informational   \n",
       "3     [web, email, mobile]         0.0       4.0  informational   \n",
       "4     [web, email, mobile]         0.0       4.0  informational   \n",
       "\n",
       "   membership_terms(y)                                    personxoffer_id  \\\n",
       "0                  5.0  0009655768c64bdeb2e877511632db8f5a8bc65990b245...   \n",
       "1                  5.0  0009655768c64bdeb2e877511632db8f5a8bc65990b245...   \n",
       "2                  5.0  0009655768c64bdeb2e877511632db8f5a8bc65990b245...   \n",
       "3                  5.0  0009655768c64bdeb2e877511632db8f3f207df678b143...   \n",
       "4                  5.0  0009655768c64bdeb2e877511632db8f3f207df678b143...   \n",
       "\n",
       "   time_of_offer  hasViewed_on_time  hasViewed  hasCompleted  \n",
       "0          168.0              False       True         False  \n",
       "1          168.0              False       True         False  \n",
       "2          168.0              False       True         False  \n",
       "3          336.0              False       True         False  \n",
       "4          336.0              False       True         False  "
      ]
     },
     "execution_count": 41,
     "metadata": {},
     "output_type": "execute_result"
    }
   ],
   "source": [
    "df_sub.head()"
   ]
  },
  {
   "cell_type": "code",
   "execution_count": 42,
   "metadata": {},
   "outputs": [],
   "source": [
    "df_sub[\"transaction_completed\"] = df_sub.apply(lambda x: True if x[\"event\"]==\"transaction\" else x[\"hasCompleted\"] , axis=1)"
   ]
  },
  {
   "cell_type": "code",
   "execution_count": 43,
   "metadata": {},
   "outputs": [],
   "source": [
    "df_sub[\"hasViewed\"].replace(np.NaN,False,inplace=True)"
   ]
  },
  {
   "cell_type": "markdown",
   "metadata": {},
   "source": [
    "We can take some time to digest the meaning of \"hasViewed\", \"hasViewed_on_time\" and \"hasCompleted\". Imagine if an offer is sent to a user's app inbox with a validity of 7 days. However, the user only checked out the offer and managed to view the offer on the 8th day after the offer was sent. This log will be captured as \"offer viewed\" in the event log, but not necessarily useful for our modelling. We are looking at if an offer is been viewed before the valid time has ended, which would show the effect of encouraging the user's behaviour to purchase an item using the offer. On the other hand, the user may complete the transaction without actually viewing the offer. Hence, a separate \"hasCompleted | hasViewed\" has to be added showing only those effective purchase from having viewed the offer on time."
   ]
  },
  {
   "cell_type": "code",
   "execution_count": 44,
   "metadata": {},
   "outputs": [],
   "source": [
    "df_sub[\"hasCompleted | hasViewed\"] = 1*(df_sub[\"hasViewed_on_time\"] & df_sub[\"hasCompleted\"])"
   ]
  },
  {
   "cell_type": "code",
   "execution_count": 45,
   "metadata": {},
   "outputs": [
    {
     "data": {
      "text/html": [
       "<div>\n",
       "<style scoped>\n",
       "    .dataframe tbody tr th:only-of-type {\n",
       "        vertical-align: middle;\n",
       "    }\n",
       "\n",
       "    .dataframe tbody tr th {\n",
       "        vertical-align: top;\n",
       "    }\n",
       "\n",
       "    .dataframe thead th {\n",
       "        text-align: right;\n",
       "    }\n",
       "</style>\n",
       "<table border=\"1\" class=\"dataframe\">\n",
       "  <thead>\n",
       "    <tr style=\"text-align: right;\">\n",
       "      <th></th>\n",
       "      <th>index</th>\n",
       "      <th>person</th>\n",
       "      <th>event</th>\n",
       "      <th>time</th>\n",
       "      <th>offer_id</th>\n",
       "      <th>amount_spent</th>\n",
       "      <th>reward_claimed</th>\n",
       "      <th>cum_count</th>\n",
       "      <th>gender</th>\n",
       "      <th>age</th>\n",
       "      <th>became_member_on</th>\n",
       "      <th>income</th>\n",
       "      <th>Transaction_From_Offer</th>\n",
       "      <th>Which_Offer</th>\n",
       "      <th>Related_Offer_Id</th>\n",
       "      <th>reward</th>\n",
       "      <th>channels</th>\n",
       "      <th>difficulty</th>\n",
       "      <th>duration</th>\n",
       "      <th>offer_type</th>\n",
       "      <th>membership_terms(y)</th>\n",
       "      <th>personxoffer_id</th>\n",
       "      <th>time_of_offer</th>\n",
       "      <th>hasViewed_on_time</th>\n",
       "      <th>hasViewed</th>\n",
       "      <th>hasCompleted</th>\n",
       "      <th>transaction_completed</th>\n",
       "      <th>hasCompleted | hasViewed</th>\n",
       "    </tr>\n",
       "  </thead>\n",
       "  <tbody>\n",
       "    <tr>\n",
       "      <th>143532</th>\n",
       "      <td>0</td>\n",
       "      <td>78afa995795e4d85b5d9ceeca43f5fef</td>\n",
       "      <td>offer received</td>\n",
       "      <td>0</td>\n",
       "      <td>9b98b8c7a33c4b65b9aebfe6a799e6d9</td>\n",
       "      <td>17.78</td>\n",
       "      <td>5.0</td>\n",
       "      <td>1</td>\n",
       "      <td>F</td>\n",
       "      <td>75.0</td>\n",
       "      <td>20170509.0</td>\n",
       "      <td>100000.0</td>\n",
       "      <td>False</td>\n",
       "      <td>1.0</td>\n",
       "      <td>9b98b8c7a33c4b65b9aebfe6a799e6d9</td>\n",
       "      <td>5.0</td>\n",
       "      <td>[web, email, mobile]</td>\n",
       "      <td>5.0</td>\n",
       "      <td>7.0</td>\n",
       "      <td>bogo</td>\n",
       "      <td>5.0</td>\n",
       "      <td>78afa995795e4d85b5d9ceeca43f5fef9b98b8c7a33c4b...</td>\n",
       "      <td>0.0</td>\n",
       "      <td>True</td>\n",
       "      <td>True</td>\n",
       "      <td>True</td>\n",
       "      <td>True</td>\n",
       "      <td>1</td>\n",
       "    </tr>\n",
       "    <tr>\n",
       "      <th>143533</th>\n",
       "      <td>15561</td>\n",
       "      <td>78afa995795e4d85b5d9ceeca43f5fef</td>\n",
       "      <td>offer viewed</td>\n",
       "      <td>6</td>\n",
       "      <td>9b98b8c7a33c4b65b9aebfe6a799e6d9</td>\n",
       "      <td>17.78</td>\n",
       "      <td>5.0</td>\n",
       "      <td>1</td>\n",
       "      <td>F</td>\n",
       "      <td>75.0</td>\n",
       "      <td>20170509.0</td>\n",
       "      <td>100000.0</td>\n",
       "      <td>False</td>\n",
       "      <td>1.0</td>\n",
       "      <td>9b98b8c7a33c4b65b9aebfe6a799e6d9</td>\n",
       "      <td>5.0</td>\n",
       "      <td>[web, email, mobile]</td>\n",
       "      <td>5.0</td>\n",
       "      <td>7.0</td>\n",
       "      <td>bogo</td>\n",
       "      <td>5.0</td>\n",
       "      <td>78afa995795e4d85b5d9ceeca43f5fef9b98b8c7a33c4b...</td>\n",
       "      <td>0.0</td>\n",
       "      <td>True</td>\n",
       "      <td>True</td>\n",
       "      <td>True</td>\n",
       "      <td>True</td>\n",
       "      <td>1</td>\n",
       "    </tr>\n",
       "    <tr>\n",
       "      <th>143534</th>\n",
       "      <td>47582</td>\n",
       "      <td>78afa995795e4d85b5d9ceeca43f5fef</td>\n",
       "      <td>transaction</td>\n",
       "      <td>132</td>\n",
       "      <td>transaction</td>\n",
       "      <td>17.78</td>\n",
       "      <td>5.0</td>\n",
       "      <td>1</td>\n",
       "      <td>F</td>\n",
       "      <td>75.0</td>\n",
       "      <td>20170509.0</td>\n",
       "      <td>100000.0</td>\n",
       "      <td>False</td>\n",
       "      <td>1.0</td>\n",
       "      <td>9b98b8c7a33c4b65b9aebfe6a799e6d9</td>\n",
       "      <td>5.0</td>\n",
       "      <td>[web, email, mobile]</td>\n",
       "      <td>5.0</td>\n",
       "      <td>7.0</td>\n",
       "      <td>bogo</td>\n",
       "      <td>5.0</td>\n",
       "      <td>78afa995795e4d85b5d9ceeca43f5fef9b98b8c7a33c4b...</td>\n",
       "      <td>0.0</td>\n",
       "      <td>True</td>\n",
       "      <td>True</td>\n",
       "      <td>True</td>\n",
       "      <td>True</td>\n",
       "      <td>1</td>\n",
       "    </tr>\n",
       "    <tr>\n",
       "      <th>143535</th>\n",
       "      <td>47583</td>\n",
       "      <td>78afa995795e4d85b5d9ceeca43f5fef</td>\n",
       "      <td>offer completed</td>\n",
       "      <td>132</td>\n",
       "      <td>9b98b8c7a33c4b65b9aebfe6a799e6d9</td>\n",
       "      <td>17.78</td>\n",
       "      <td>5.0</td>\n",
       "      <td>2</td>\n",
       "      <td>F</td>\n",
       "      <td>75.0</td>\n",
       "      <td>20170509.0</td>\n",
       "      <td>100000.0</td>\n",
       "      <td>False</td>\n",
       "      <td>1.0</td>\n",
       "      <td>9b98b8c7a33c4b65b9aebfe6a799e6d9</td>\n",
       "      <td>5.0</td>\n",
       "      <td>[web, email, mobile]</td>\n",
       "      <td>5.0</td>\n",
       "      <td>7.0</td>\n",
       "      <td>bogo</td>\n",
       "      <td>5.0</td>\n",
       "      <td>78afa995795e4d85b5d9ceeca43f5fef9b98b8c7a33c4b...</td>\n",
       "      <td>0.0</td>\n",
       "      <td>True</td>\n",
       "      <td>True</td>\n",
       "      <td>True</td>\n",
       "      <td>True</td>\n",
       "      <td>1</td>\n",
       "    </tr>\n",
       "    <tr>\n",
       "      <th>143536</th>\n",
       "      <td>49502</td>\n",
       "      <td>78afa995795e4d85b5d9ceeca43f5fef</td>\n",
       "      <td>transaction</td>\n",
       "      <td>144</td>\n",
       "      <td>transaction</td>\n",
       "      <td>17.78</td>\n",
       "      <td>5.0</td>\n",
       "      <td>2</td>\n",
       "      <td>F</td>\n",
       "      <td>75.0</td>\n",
       "      <td>20170509.0</td>\n",
       "      <td>100000.0</td>\n",
       "      <td>False</td>\n",
       "      <td>1.0</td>\n",
       "      <td>9b98b8c7a33c4b65b9aebfe6a799e6d9</td>\n",
       "      <td>5.0</td>\n",
       "      <td>[web, email, mobile]</td>\n",
       "      <td>5.0</td>\n",
       "      <td>7.0</td>\n",
       "      <td>bogo</td>\n",
       "      <td>5.0</td>\n",
       "      <td>78afa995795e4d85b5d9ceeca43f5fef9b98b8c7a33c4b...</td>\n",
       "      <td>0.0</td>\n",
       "      <td>True</td>\n",
       "      <td>True</td>\n",
       "      <td>True</td>\n",
       "      <td>True</td>\n",
       "      <td>1</td>\n",
       "    </tr>\n",
       "  </tbody>\n",
       "</table>\n",
       "</div>"
      ],
      "text/plain": [
       "        index                            person            event  time  \\\n",
       "143532      0  78afa995795e4d85b5d9ceeca43f5fef   offer received     0   \n",
       "143533  15561  78afa995795e4d85b5d9ceeca43f5fef     offer viewed     6   \n",
       "143534  47582  78afa995795e4d85b5d9ceeca43f5fef      transaction   132   \n",
       "143535  47583  78afa995795e4d85b5d9ceeca43f5fef  offer completed   132   \n",
       "143536  49502  78afa995795e4d85b5d9ceeca43f5fef      transaction   144   \n",
       "\n",
       "                                offer_id  amount_spent  reward_claimed  \\\n",
       "143532  9b98b8c7a33c4b65b9aebfe6a799e6d9         17.78             5.0   \n",
       "143533  9b98b8c7a33c4b65b9aebfe6a799e6d9         17.78             5.0   \n",
       "143534                       transaction         17.78             5.0   \n",
       "143535  9b98b8c7a33c4b65b9aebfe6a799e6d9         17.78             5.0   \n",
       "143536                       transaction         17.78             5.0   \n",
       "\n",
       "        cum_count gender   age  became_member_on    income  \\\n",
       "143532          1      F  75.0        20170509.0  100000.0   \n",
       "143533          1      F  75.0        20170509.0  100000.0   \n",
       "143534          1      F  75.0        20170509.0  100000.0   \n",
       "143535          2      F  75.0        20170509.0  100000.0   \n",
       "143536          2      F  75.0        20170509.0  100000.0   \n",
       "\n",
       "        Transaction_From_Offer  Which_Offer                  Related_Offer_Id  \\\n",
       "143532                   False          1.0  9b98b8c7a33c4b65b9aebfe6a799e6d9   \n",
       "143533                   False          1.0  9b98b8c7a33c4b65b9aebfe6a799e6d9   \n",
       "143534                   False          1.0  9b98b8c7a33c4b65b9aebfe6a799e6d9   \n",
       "143535                   False          1.0  9b98b8c7a33c4b65b9aebfe6a799e6d9   \n",
       "143536                   False          1.0  9b98b8c7a33c4b65b9aebfe6a799e6d9   \n",
       "\n",
       "        reward              channels  difficulty  duration offer_type  \\\n",
       "143532     5.0  [web, email, mobile]         5.0       7.0       bogo   \n",
       "143533     5.0  [web, email, mobile]         5.0       7.0       bogo   \n",
       "143534     5.0  [web, email, mobile]         5.0       7.0       bogo   \n",
       "143535     5.0  [web, email, mobile]         5.0       7.0       bogo   \n",
       "143536     5.0  [web, email, mobile]         5.0       7.0       bogo   \n",
       "\n",
       "        membership_terms(y)  \\\n",
       "143532                  5.0   \n",
       "143533                  5.0   \n",
       "143534                  5.0   \n",
       "143535                  5.0   \n",
       "143536                  5.0   \n",
       "\n",
       "                                          personxoffer_id  time_of_offer  \\\n",
       "143532  78afa995795e4d85b5d9ceeca43f5fef9b98b8c7a33c4b...            0.0   \n",
       "143533  78afa995795e4d85b5d9ceeca43f5fef9b98b8c7a33c4b...            0.0   \n",
       "143534  78afa995795e4d85b5d9ceeca43f5fef9b98b8c7a33c4b...            0.0   \n",
       "143535  78afa995795e4d85b5d9ceeca43f5fef9b98b8c7a33c4b...            0.0   \n",
       "143536  78afa995795e4d85b5d9ceeca43f5fef9b98b8c7a33c4b...            0.0   \n",
       "\n",
       "        hasViewed_on_time  hasViewed  hasCompleted  transaction_completed  \\\n",
       "143532               True       True          True                   True   \n",
       "143533               True       True          True                   True   \n",
       "143534               True       True          True                   True   \n",
       "143535               True       True          True                   True   \n",
       "143536               True       True          True                   True   \n",
       "\n",
       "        hasCompleted | hasViewed  \n",
       "143532                         1  \n",
       "143533                         1  \n",
       "143534                         1  \n",
       "143535                         1  \n",
       "143536                         1  "
      ]
     },
     "execution_count": 45,
     "metadata": {},
     "output_type": "execute_result"
    }
   ],
   "source": [
    " df_sub[df_sub.person ==\"78afa995795e4d85b5d9ceeca43f5fef\"].head()"
   ]
  },
  {
   "cell_type": "markdown",
   "metadata": {},
   "source": [
    "The dataset is now ready for analysis. We can rename it as model_df for further modelling use. At the same time, let's remove some of the columns not needed for model training. While usually the marketing channels would be of a great variable to model, the marketing channels are pretty much the same in this case. Hence let's assume the effect of marketing channel as negligible and remove the \"channels\" column. The \"amount_spent\" is almost the effect of the transaction, and therefore we will exclude it from the columns as well."
   ]
  },
  {
   "cell_type": "code",
   "execution_count": 46,
   "metadata": {},
   "outputs": [],
   "source": [
    "model_df = df_sub.drop([\"index\",\"time\",\"cum_count\",\"reward_claimed\",\"amount_spent\",\n",
    "                           \"personxoffer_id\",\"person\",\"offer_id\",\"event\",\n",
    "                           \"channels\",\"became_member_on\",\"Transaction_From_Offer\",\n",
    "                           \"hasViewed\",\"Related_Offer_Id\",\"time_of_offer\",\"transaction_completed\",\"hasViewed_on_time\",\"hasCompleted\"], axis=1)"
   ]
  },
  {
   "cell_type": "markdown",
   "metadata": {},
   "source": [
    "Note that when stripping of a the event, time, amount spent columns etc, there will be duplicated rows in the log data. This is the case of say, an offer was received, the same offer was viewed, and then completed, and eventually an transaction was based on the offer. In the case of such funnelled activities, there would then be 4 same rows present in the log data. It is safe to remove duplicates for this case, as the event category has not been pivoted as column heading, resulting in no loss of important. The objective here is to model every offer-transaction."
   ]
  },
  {
   "cell_type": "code",
   "execution_count": 47,
   "metadata": {},
   "outputs": [],
   "source": [
    "model_df.drop_duplicates(inplace=True)"
   ]
  },
  {
   "cell_type": "markdown",
   "metadata": {},
   "source": [
    "Checking for null values:"
   ]
  },
  {
   "cell_type": "code",
   "execution_count": 48,
   "metadata": {},
   "outputs": [
    {
     "data": {
      "text/plain": [
       "gender                        36\n",
       "age                           36\n",
       "income                        36\n",
       "Which_Offer                    0\n",
       "reward                      2191\n",
       "difficulty                  2191\n",
       "duration                    2191\n",
       "offer_type                  2191\n",
       "membership_terms(y)           36\n",
       "hasCompleted | hasViewed       0\n",
       "dtype: int64"
      ]
     },
     "execution_count": 48,
     "metadata": {},
     "output_type": "execute_result"
    }
   ],
   "source": [
    "model_df.isna().sum()"
   ]
  },
  {
   "cell_type": "markdown",
   "metadata": {},
   "source": [
    "There are some missing data in gender, age and income columns, however at the beginning of the pre-processing step, steps were taken and the profile database was freed of any missing data. Hence, it is believed that these could be resulted from the log data that included users which are not present in the profile database, mostly likely they are guest users or some omission occurred. In any case, we can safely remove these NA values. "
   ]
  },
  {
   "cell_type": "code",
   "execution_count": 49,
   "metadata": {},
   "outputs": [],
   "source": [
    "model_df = model_df.dropna(subset=[\"gender\"])"
   ]
  },
  {
   "cell_type": "code",
   "execution_count": 50,
   "metadata": {},
   "outputs": [
    {
     "data": {
      "text/plain": [
       "gender                         0\n",
       "age                            0\n",
       "income                         0\n",
       "Which_Offer                    0\n",
       "reward                      2190\n",
       "difficulty                  2190\n",
       "duration                    2190\n",
       "offer_type                  2190\n",
       "membership_terms(y)            0\n",
       "hasCompleted | hasViewed       0\n",
       "dtype: int64"
      ]
     },
     "execution_count": 50,
     "metadata": {},
     "output_type": "execute_result"
    }
   ],
   "source": [
    "model_df.isna().sum()"
   ]
  },
  {
   "cell_type": "code",
   "execution_count": 51,
   "metadata": {},
   "outputs": [
    {
     "data": {
      "text/html": [
       "<div>\n",
       "<style scoped>\n",
       "    .dataframe tbody tr th:only-of-type {\n",
       "        vertical-align: middle;\n",
       "    }\n",
       "\n",
       "    .dataframe tbody tr th {\n",
       "        vertical-align: top;\n",
       "    }\n",
       "\n",
       "    .dataframe thead th {\n",
       "        text-align: right;\n",
       "    }\n",
       "</style>\n",
       "<table border=\"1\" class=\"dataframe\">\n",
       "  <thead>\n",
       "    <tr style=\"text-align: right;\">\n",
       "      <th></th>\n",
       "      <th>gender</th>\n",
       "      <th>age</th>\n",
       "      <th>income</th>\n",
       "      <th>Which_Offer</th>\n",
       "      <th>reward</th>\n",
       "      <th>difficulty</th>\n",
       "      <th>duration</th>\n",
       "      <th>offer_type</th>\n",
       "      <th>membership_terms(y)</th>\n",
       "      <th>hasCompleted | hasViewed</th>\n",
       "    </tr>\n",
       "  </thead>\n",
       "  <tbody>\n",
       "    <tr>\n",
       "      <th>64</th>\n",
       "      <td>F</td>\n",
       "      <td>24.0</td>\n",
       "      <td>60000.0</td>\n",
       "      <td>100.0</td>\n",
       "      <td>NaN</td>\n",
       "      <td>NaN</td>\n",
       "      <td>NaN</td>\n",
       "      <td>NaN</td>\n",
       "      <td>6.0</td>\n",
       "      <td>0</td>\n",
       "    </tr>\n",
       "    <tr>\n",
       "      <th>142</th>\n",
       "      <td>F</td>\n",
       "      <td>55.0</td>\n",
       "      <td>74000.0</td>\n",
       "      <td>100.0</td>\n",
       "      <td>NaN</td>\n",
       "      <td>NaN</td>\n",
       "      <td>NaN</td>\n",
       "      <td>NaN</td>\n",
       "      <td>4.0</td>\n",
       "      <td>0</td>\n",
       "    </tr>\n",
       "    <tr>\n",
       "      <th>478</th>\n",
       "      <td>M</td>\n",
       "      <td>21.0</td>\n",
       "      <td>59000.0</td>\n",
       "      <td>100.0</td>\n",
       "      <td>NaN</td>\n",
       "      <td>NaN</td>\n",
       "      <td>NaN</td>\n",
       "      <td>NaN</td>\n",
       "      <td>4.0</td>\n",
       "      <td>0</td>\n",
       "    </tr>\n",
       "    <tr>\n",
       "      <th>551</th>\n",
       "      <td>F</td>\n",
       "      <td>68.0</td>\n",
       "      <td>76000.0</td>\n",
       "      <td>100.0</td>\n",
       "      <td>NaN</td>\n",
       "      <td>NaN</td>\n",
       "      <td>NaN</td>\n",
       "      <td>NaN</td>\n",
       "      <td>4.0</td>\n",
       "      <td>0</td>\n",
       "    </tr>\n",
       "    <tr>\n",
       "      <th>719</th>\n",
       "      <td>M</td>\n",
       "      <td>34.0</td>\n",
       "      <td>38000.0</td>\n",
       "      <td>100.0</td>\n",
       "      <td>NaN</td>\n",
       "      <td>NaN</td>\n",
       "      <td>NaN</td>\n",
       "      <td>NaN</td>\n",
       "      <td>4.0</td>\n",
       "      <td>0</td>\n",
       "    </tr>\n",
       "    <tr>\n",
       "      <th>...</th>\n",
       "      <td>...</td>\n",
       "      <td>...</td>\n",
       "      <td>...</td>\n",
       "      <td>...</td>\n",
       "      <td>...</td>\n",
       "      <td>...</td>\n",
       "      <td>...</td>\n",
       "      <td>...</td>\n",
       "      <td>...</td>\n",
       "      <td>...</td>\n",
       "    </tr>\n",
       "    <tr>\n",
       "      <th>305739</th>\n",
       "      <td>M</td>\n",
       "      <td>73.0</td>\n",
       "      <td>115000.0</td>\n",
       "      <td>100.0</td>\n",
       "      <td>NaN</td>\n",
       "      <td>NaN</td>\n",
       "      <td>NaN</td>\n",
       "      <td>NaN</td>\n",
       "      <td>5.0</td>\n",
       "      <td>0</td>\n",
       "    </tr>\n",
       "    <tr>\n",
       "      <th>305887</th>\n",
       "      <td>M</td>\n",
       "      <td>54.0</td>\n",
       "      <td>57000.0</td>\n",
       "      <td>100.0</td>\n",
       "      <td>NaN</td>\n",
       "      <td>NaN</td>\n",
       "      <td>NaN</td>\n",
       "      <td>NaN</td>\n",
       "      <td>8.0</td>\n",
       "      <td>0</td>\n",
       "    </tr>\n",
       "    <tr>\n",
       "      <th>305997</th>\n",
       "      <td>M</td>\n",
       "      <td>79.0</td>\n",
       "      <td>93000.0</td>\n",
       "      <td>100.0</td>\n",
       "      <td>NaN</td>\n",
       "      <td>NaN</td>\n",
       "      <td>NaN</td>\n",
       "      <td>NaN</td>\n",
       "      <td>5.0</td>\n",
       "      <td>0</td>\n",
       "    </tr>\n",
       "    <tr>\n",
       "      <th>306387</th>\n",
       "      <td>M</td>\n",
       "      <td>67.0</td>\n",
       "      <td>80000.0</td>\n",
       "      <td>100.0</td>\n",
       "      <td>NaN</td>\n",
       "      <td>NaN</td>\n",
       "      <td>NaN</td>\n",
       "      <td>NaN</td>\n",
       "      <td>5.0</td>\n",
       "      <td>0</td>\n",
       "    </tr>\n",
       "    <tr>\n",
       "      <th>306468</th>\n",
       "      <td>M</td>\n",
       "      <td>71.0</td>\n",
       "      <td>56000.0</td>\n",
       "      <td>100.0</td>\n",
       "      <td>NaN</td>\n",
       "      <td>NaN</td>\n",
       "      <td>NaN</td>\n",
       "      <td>NaN</td>\n",
       "      <td>4.0</td>\n",
       "      <td>0</td>\n",
       "    </tr>\n",
       "  </tbody>\n",
       "</table>\n",
       "<p>2190 rows × 10 columns</p>\n",
       "</div>"
      ],
      "text/plain": [
       "       gender   age    income  Which_Offer  reward  difficulty  duration  \\\n",
       "64          F  24.0   60000.0        100.0     NaN         NaN       NaN   \n",
       "142         F  55.0   74000.0        100.0     NaN         NaN       NaN   \n",
       "478         M  21.0   59000.0        100.0     NaN         NaN       NaN   \n",
       "551         F  68.0   76000.0        100.0     NaN         NaN       NaN   \n",
       "719         M  34.0   38000.0        100.0     NaN         NaN       NaN   \n",
       "...       ...   ...       ...          ...     ...         ...       ...   \n",
       "305739      M  73.0  115000.0        100.0     NaN         NaN       NaN   \n",
       "305887      M  54.0   57000.0        100.0     NaN         NaN       NaN   \n",
       "305997      M  79.0   93000.0        100.0     NaN         NaN       NaN   \n",
       "306387      M  67.0   80000.0        100.0     NaN         NaN       NaN   \n",
       "306468      M  71.0   56000.0        100.0     NaN         NaN       NaN   \n",
       "\n",
       "       offer_type  membership_terms(y)  hasCompleted | hasViewed  \n",
       "64            NaN                  6.0                         0  \n",
       "142           NaN                  4.0                         0  \n",
       "478           NaN                  4.0                         0  \n",
       "551           NaN                  4.0                         0  \n",
       "719           NaN                  4.0                         0  \n",
       "...           ...                  ...                       ...  \n",
       "305739        NaN                  5.0                         0  \n",
       "305887        NaN                  8.0                         0  \n",
       "305997        NaN                  5.0                         0  \n",
       "306387        NaN                  5.0                         0  \n",
       "306468        NaN                  4.0                         0  \n",
       "\n",
       "[2190 rows x 10 columns]"
      ]
     },
     "execution_count": 51,
     "metadata": {},
     "output_type": "execute_result"
    }
   ],
   "source": [
    "model_df[model_df[\"reward\"].isna()]"
   ]
  },
  {
   "cell_type": "markdown",
   "metadata": {},
   "source": [
    "It has been intentionally set for Which_Offer column to be 100, if there was no corresponding matching offer that these transaction were derived from. Checking for the hasViewed_on_time columns and hasCompleted should give only False since there was no offer. These were purely transactions without offers. "
   ]
  },
  {
   "cell_type": "markdown",
   "metadata": {},
   "source": [
    "Finally, we can also do some manipulation to the continuous variables. Having age and income in the continuous may not help us identify which are the segments that Starbucks can actually target"
   ]
  },
  {
   "cell_type": "code",
   "execution_count": 52,
   "metadata": {},
   "outputs": [],
   "source": [
    "category=pd.cut(model_df['age'], bins=[10,20,30,40,50,60,70,80,90,1000],labels = [\"10-20\",\"20-30\",\"30-40\",\"40-50\",\"50-60\",\"60-70\",\"70-80\",\"80-90\",\">90\"])\n",
    "model_df.insert(1,\"age_group\",category)\n",
    "category=pd.cut(model_df['income'], 9,labels = [\"30-40k\",\"40-50k\",\"50-60k\",\"60-70k\",\"70-80k\",\"80-90k\",\"90-100k\",\"100-110k\",\">110k\"])\n",
    "model_df.insert(2,\"income_group\",category)\n",
    "category=pd.cut(model_df['membership_terms(y)'], bins=[0,1,2,5,8,10,100],labels = [\"<1\",\"1-2\",\"2-5\",\"5-8\",\"8-10\",\">10\"])\n",
    "model_df.insert(3,\"membership_terms_group\",category)"
   ]
  },
  {
   "cell_type": "code",
   "execution_count": 53,
   "metadata": {},
   "outputs": [],
   "source": [
    "model_df =model_df.drop([\"age\",\"income\",'membership_terms(y)'], axis=1)"
   ]
  },
  {
   "cell_type": "markdown",
   "metadata": {},
   "source": [
    "## 2 . Implementation"
   ]
  },
  {
   "cell_type": "markdown",
   "metadata": {},
   "source": [
    "The objective here is to model for every offer-transaction per user basis. Therefore, transactions without any accompanying offers shall be excluded in the model training. "
   ]
  },
  {
   "cell_type": "code",
   "execution_count": 54,
   "metadata": {},
   "outputs": [],
   "source": [
    "model_df_trx_w_offer = model_df[model_df.Which_Offer != 100]\n",
    "model_df_trx_wo_offer= model_df[model_df.Which_Offer == 100]"
   ]
  },
  {
   "cell_type": "code",
   "execution_count": 55,
   "metadata": {},
   "outputs": [],
   "source": [
    "model_df_trx_wo_offer= model_df_trx_wo_offer.drop([\"reward\",\"difficulty\",\"duration\",\"offer_type\"], axis=1)"
   ]
  },
  {
   "cell_type": "code",
   "execution_count": 56,
   "metadata": {},
   "outputs": [
    {
     "data": {
      "text/html": [
       "<div>\n",
       "<style scoped>\n",
       "    .dataframe tbody tr th:only-of-type {\n",
       "        vertical-align: middle;\n",
       "    }\n",
       "\n",
       "    .dataframe tbody tr th {\n",
       "        vertical-align: top;\n",
       "    }\n",
       "\n",
       "    .dataframe thead th {\n",
       "        text-align: right;\n",
       "    }\n",
       "</style>\n",
       "<table border=\"1\" class=\"dataframe\">\n",
       "  <thead>\n",
       "    <tr style=\"text-align: right;\">\n",
       "      <th></th>\n",
       "      <th>gender</th>\n",
       "      <th>age_group</th>\n",
       "      <th>income_group</th>\n",
       "      <th>membership_terms_group</th>\n",
       "      <th>Which_Offer</th>\n",
       "      <th>reward</th>\n",
       "      <th>difficulty</th>\n",
       "      <th>duration</th>\n",
       "      <th>offer_type</th>\n",
       "      <th>hasCompleted | hasViewed</th>\n",
       "    </tr>\n",
       "  </thead>\n",
       "  <tbody>\n",
       "    <tr>\n",
       "      <th>0</th>\n",
       "      <td>M</td>\n",
       "      <td>30-40</td>\n",
       "      <td>70-80k</td>\n",
       "      <td>2-5</td>\n",
       "      <td>1.0</td>\n",
       "      <td>0.0</td>\n",
       "      <td>0.0</td>\n",
       "      <td>3.0</td>\n",
       "      <td>informational</td>\n",
       "      <td>0</td>\n",
       "    </tr>\n",
       "    <tr>\n",
       "      <th>3</th>\n",
       "      <td>M</td>\n",
       "      <td>30-40</td>\n",
       "      <td>70-80k</td>\n",
       "      <td>2-5</td>\n",
       "      <td>1.0</td>\n",
       "      <td>0.0</td>\n",
       "      <td>0.0</td>\n",
       "      <td>4.0</td>\n",
       "      <td>informational</td>\n",
       "      <td>0</td>\n",
       "    </tr>\n",
       "    <tr>\n",
       "      <th>5</th>\n",
       "      <td>M</td>\n",
       "      <td>30-40</td>\n",
       "      <td>70-80k</td>\n",
       "      <td>2-5</td>\n",
       "      <td>1.0</td>\n",
       "      <td>5.0</td>\n",
       "      <td>5.0</td>\n",
       "      <td>5.0</td>\n",
       "      <td>bogo</td>\n",
       "      <td>0</td>\n",
       "    </tr>\n",
       "    <tr>\n",
       "      <th>9</th>\n",
       "      <td>M</td>\n",
       "      <td>30-40</td>\n",
       "      <td>70-80k</td>\n",
       "      <td>2-5</td>\n",
       "      <td>1.0</td>\n",
       "      <td>2.0</td>\n",
       "      <td>10.0</td>\n",
       "      <td>10.0</td>\n",
       "      <td>discount</td>\n",
       "      <td>0</td>\n",
       "    </tr>\n",
       "    <tr>\n",
       "      <th>14</th>\n",
       "      <td>M</td>\n",
       "      <td>30-40</td>\n",
       "      <td>70-80k</td>\n",
       "      <td>2-5</td>\n",
       "      <td>1.0</td>\n",
       "      <td>2.0</td>\n",
       "      <td>10.0</td>\n",
       "      <td>7.0</td>\n",
       "      <td>discount</td>\n",
       "      <td>0</td>\n",
       "    </tr>\n",
       "    <tr>\n",
       "      <th>...</th>\n",
       "      <td>...</td>\n",
       "      <td>...</td>\n",
       "      <td>...</td>\n",
       "      <td>...</td>\n",
       "      <td>...</td>\n",
       "      <td>...</td>\n",
       "      <td>...</td>\n",
       "      <td>...</td>\n",
       "      <td>...</td>\n",
       "      <td>...</td>\n",
       "    </tr>\n",
       "    <tr>\n",
       "      <th>306496</th>\n",
       "      <td>M</td>\n",
       "      <td>30-40</td>\n",
       "      <td>30-40k</td>\n",
       "      <td>2-5</td>\n",
       "      <td>1.0</td>\n",
       "      <td>5.0</td>\n",
       "      <td>5.0</td>\n",
       "      <td>7.0</td>\n",
       "      <td>bogo</td>\n",
       "      <td>0</td>\n",
       "    </tr>\n",
       "    <tr>\n",
       "      <th>306501</th>\n",
       "      <td>F</td>\n",
       "      <td>40-50</td>\n",
       "      <td>60-70k</td>\n",
       "      <td>5-8</td>\n",
       "      <td>1.0</td>\n",
       "      <td>2.0</td>\n",
       "      <td>10.0</td>\n",
       "      <td>10.0</td>\n",
       "      <td>discount</td>\n",
       "      <td>1</td>\n",
       "    </tr>\n",
       "    <tr>\n",
       "      <th>306507</th>\n",
       "      <td>F</td>\n",
       "      <td>40-50</td>\n",
       "      <td>60-70k</td>\n",
       "      <td>5-8</td>\n",
       "      <td>1.0</td>\n",
       "      <td>5.0</td>\n",
       "      <td>20.0</td>\n",
       "      <td>10.0</td>\n",
       "      <td>discount</td>\n",
       "      <td>1</td>\n",
       "    </tr>\n",
       "    <tr>\n",
       "      <th>306515</th>\n",
       "      <td>F</td>\n",
       "      <td>40-50</td>\n",
       "      <td>60-70k</td>\n",
       "      <td>5-8</td>\n",
       "      <td>1.0</td>\n",
       "      <td>2.0</td>\n",
       "      <td>10.0</td>\n",
       "      <td>7.0</td>\n",
       "      <td>discount</td>\n",
       "      <td>1</td>\n",
       "    </tr>\n",
       "    <tr>\n",
       "      <th>306524</th>\n",
       "      <td>F</td>\n",
       "      <td>40-50</td>\n",
       "      <td>60-70k</td>\n",
       "      <td>5-8</td>\n",
       "      <td>1.0</td>\n",
       "      <td>5.0</td>\n",
       "      <td>5.0</td>\n",
       "      <td>7.0</td>\n",
       "      <td>bogo</td>\n",
       "      <td>0</td>\n",
       "    </tr>\n",
       "  </tbody>\n",
       "</table>\n",
       "<p>51485 rows × 10 columns</p>\n",
       "</div>"
      ],
      "text/plain": [
       "       gender age_group income_group membership_terms_group  Which_Offer  \\\n",
       "0           M     30-40       70-80k                    2-5          1.0   \n",
       "3           M     30-40       70-80k                    2-5          1.0   \n",
       "5           M     30-40       70-80k                    2-5          1.0   \n",
       "9           M     30-40       70-80k                    2-5          1.0   \n",
       "14          M     30-40       70-80k                    2-5          1.0   \n",
       "...       ...       ...          ...                    ...          ...   \n",
       "306496      M     30-40       30-40k                    2-5          1.0   \n",
       "306501      F     40-50       60-70k                    5-8          1.0   \n",
       "306507      F     40-50       60-70k                    5-8          1.0   \n",
       "306515      F     40-50       60-70k                    5-8          1.0   \n",
       "306524      F     40-50       60-70k                    5-8          1.0   \n",
       "\n",
       "        reward  difficulty  duration     offer_type  hasCompleted | hasViewed  \n",
       "0          0.0         0.0       3.0  informational                         0  \n",
       "3          0.0         0.0       4.0  informational                         0  \n",
       "5          5.0         5.0       5.0           bogo                         0  \n",
       "9          2.0        10.0      10.0       discount                         0  \n",
       "14         2.0        10.0       7.0       discount                         0  \n",
       "...        ...         ...       ...            ...                       ...  \n",
       "306496     5.0         5.0       7.0           bogo                         0  \n",
       "306501     2.0        10.0      10.0       discount                         1  \n",
       "306507     5.0        20.0      10.0       discount                         1  \n",
       "306515     2.0        10.0       7.0       discount                         1  \n",
       "306524     5.0         5.0       7.0           bogo                         0  \n",
       "\n",
       "[51485 rows x 10 columns]"
      ]
     },
     "execution_count": 56,
     "metadata": {},
     "output_type": "execute_result"
    }
   ],
   "source": [
    "model_df_trx_w_offer"
   ]
  },
  {
   "cell_type": "code",
   "execution_count": 57,
   "metadata": {},
   "outputs": [],
   "source": [
    "from sklearn.model_selection import train_test_split\n",
    "X = model_df_trx_w_offer.drop([\"hasCompleted | hasViewed\"], axis=1)\n",
    "Y = model_df_trx_w_offer[[\"hasCompleted | hasViewed\"]]"
   ]
  },
  {
   "cell_type": "code",
   "execution_count": 58,
   "metadata": {},
   "outputs": [],
   "source": [
    "x_train, x_test, y_train, y_test = train_test_split(X, Y, test_size=0.25, random_state=123)"
   ]
  },
  {
   "cell_type": "code",
   "execution_count": 59,
   "metadata": {},
   "outputs": [],
   "source": [
    "model_rf = RandomForestClassifier(random_state=1, n_jobs=-1)\n",
    "#model_logr = LogisticRegression(random_state=1, n_jobs=-1) #multi_class='multinomial')\n",
    "model_lgbm = LGBMClassifier(random_state=1, n_jobs=-1)\n",
    "model_xgb = XGBClassifier(random_state=1, n_jobs=-1)\n",
    "model_gbr = GradientBoostingClassifier(random_state=1)\n",
    "\n",
    "models = []\n",
    "#models.append(('LR',model_logr))\n",
    "models.append(('RF',model_rf))\n",
    "models.append(('GBR',model_gbr))\n",
    "models.append(('XGB',model_xgb))\n",
    "models.append(('LGB',model_lgbm))"
   ]
  },
  {
   "cell_type": "code",
   "execution_count": 60,
   "metadata": {},
   "outputs": [],
   "source": [
    "cat_var1 = ['Which_Offer','gender','reward','difficulty','offer_type','age_group','income_group','duration',\"membership_terms_group\"]"
   ]
  },
  {
   "cell_type": "code",
   "execution_count": 61,
   "metadata": {},
   "outputs": [],
   "source": [
    "scaler = StandardScaler()\n",
    "labelen = LabelEncoder()\n",
    "onehot = OneHotEncoder(handle_unknown='ignore', sparse=False)\n",
    "cv = StratifiedKFold(n_splits=5, random_state=1, shuffle=True)\n",
    "ct = ColumnTransformer([('onehot', onehot, cat_var1), \n",
    "                        #('scaler', scaler, con_var),\n",
    "                       ], remainder='passthrough', n_jobs=-1)"
   ]
  },
  {
   "cell_type": "code",
   "execution_count": 62,
   "metadata": {
    "scrolled": true
   },
   "outputs": [
    {
     "name": "stdout",
     "output_type": "stream",
     "text": [
      "model RF train accuracy: 0.7840 variance: 0.0022 test_score: 0.7837 \n",
      "model GBR train accuracy: 0.7978 variance: 0.0021 test_score: 0.7934 \n",
      "model XGB train accuracy: 0.7930 variance: 0.0012 test_score: 0.7908 \n",
      "model LGB train accuracy: 0.7968 variance: 0.0011 test_score: 0.7930 \n"
     ]
    }
   ],
   "source": [
    "results = []\n",
    "names = []\n",
    "for name, model in models:\n",
    "    pipe = Pipeline([(\"ct,\",ct),(name, model)])\n",
    "    scores = cross_val_score(pipe, x_train, y_train, scoring='accuracy', cv=cv, n_jobs=-1, verbose=0)\n",
    "    names.append(name)\n",
    "    results.append(scores)\n",
    "    pipe.fit(x_train, y_train)\n",
    "    test_score = pipe.score(x_test, y_test)\n",
    "    print(\"model %s train accuracy: %.4f variance: %.4f test_score: %.4f \"%(name, np.mean(scores), np.std(scores),test_score))"
   ]
  },
  {
   "cell_type": "markdown",
   "metadata": {},
   "source": [
    "Let's pick the model with the highest accuracy at 79.78, the GBR model. "
   ]
  },
  {
   "cell_type": "code",
   "execution_count": 63,
   "metadata": {},
   "outputs": [
    {
     "data": {
      "image/png": "[encoded data removed]",
      "text/plain": [
       "<Figure size 864x360 with 1 Axes>"
      ]
     },
     "metadata": {},
     "output_type": "display_data"
    }
   ],
   "source": [
    "plt.figure(figsize=(12,5))\n",
    "plt.boxplot(results)\n",
    "plt.xticks(np.arange(1,len(names)+1),names)\n",
    "plt.title(\"Accuracy for different machine learning algorithms\")\n",
    "plt.xlabel(\"Model Name\")\n",
    "plt.ylabel(\"Cross val Accuracies\")\n",
    "plt.show()"
   ]
  },
  {
   "cell_type": "code",
   "execution_count": 64,
   "metadata": {},
   "outputs": [
    {
     "name": "stdout",
     "output_type": "stream",
     "text": [
      "              precision    recall  f1-score   support\n",
      "\n",
      "           0       0.80      0.98      0.88     10118\n",
      "           1       0.61      0.10      0.17      2754\n",
      "\n",
      "    accuracy                           0.79     12872\n",
      "   macro avg       0.70      0.54      0.53     12872\n",
      "weighted avg       0.76      0.79      0.73     12872\n",
      "\n"
     ]
    }
   ],
   "source": [
    "selected_pipe = Pipeline([('ct', ct), ('GBR', model_gbr)])\n",
    "selected_pipe.fit(x_train, y_train)\n",
    "trainpred = selected_pipe.predict(x_test)\n",
    "print(classification_report(y_test, trainpred))"
   ]
  },
  {
   "cell_type": "markdown",
   "metadata": {},
   "source": [
    "## 3 . Refinement"
   ]
  },
  {
   "cell_type": "markdown",
   "metadata": {},
   "source": [
    "To further improve the selected model, we can use the grid search"
   ]
  },
  {
   "cell_type": "code",
   "execution_count": 65,
   "metadata": {},
   "outputs": [
    {
     "name": "stdout",
     "output_type": "stream",
     "text": [
      "{'GBR__learning_rate': 0.05, 'GBR__min_samples_split': 10, 'GBR__n_estimators': 200}\n"
     ]
    }
   ],
   "source": [
    "grid_param = {\n",
    "    'GBR__n_estimators': [100, 200],\n",
    "    'GBR__min_samples_split': [5,10,20],\n",
    "    'GBR__learning_rate': [0.03,0.05]\n",
    "}\n",
    "\n",
    "gd_sr = GridSearchCV(estimator=selected_pipe,\n",
    "                     param_grid=grid_param,\n",
    "                     scoring='accuracy',\n",
    "                     cv=5,\n",
    "                     n_jobs=-1)\n",
    "gd_sr.fit(x_train, y_train)\n",
    "\n",
    "best_parameters = gd_sr.best_params_\n",
    "print(best_parameters)"
   ]
  },
  {
   "cell_type": "markdown",
   "metadata": {},
   "source": [
    "Training Data Score from the grid search model"
   ]
  },
  {
   "cell_type": "code",
   "execution_count": 66,
   "metadata": {},
   "outputs": [
    {
     "data": {
      "text/plain": [
       "0.7993939864812369"
      ]
     },
     "execution_count": 66,
     "metadata": {},
     "output_type": "execute_result"
    }
   ],
   "source": [
    "gd_sr.score(x_train, y_train)"
   ]
  },
  {
   "cell_type": "markdown",
   "metadata": {},
   "source": [
    "Testing Data Score from the grid search model"
   ]
  },
  {
   "cell_type": "code",
   "execution_count": 67,
   "metadata": {},
   "outputs": [
    {
     "data": {
      "text/plain": [
       "0.7936606587942822"
      ]
     },
     "execution_count": 67,
     "metadata": {},
     "output_type": "execute_result"
    }
   ],
   "source": [
    "gd_sr.score(x_test, y_test)"
   ]
  },
  {
   "cell_type": "markdown",
   "metadata": {},
   "source": [
    "# Section - Result"
   ]
  },
  {
   "cell_type": "markdown",
   "metadata": {},
   "source": [
    "## 1. Model Evaluation and Validation"
   ]
  },
  {
   "cell_type": "markdown",
   "metadata": {},
   "source": [
    "Next, in order to find the most contributing demographic features, we can try a correlation matrix"
   ]
  },
  {
   "cell_type": "code",
   "execution_count": 68,
   "metadata": {},
   "outputs": [],
   "source": [
    "onehot_categories = gd_sr.get_params()[\"estimator\"]['ct'].transformers_[0][1].categories_\n",
    "onehot_features = [f\"{col}__{val}\" for col, vals in zip(cat_var1, onehot_categories) for val in vals]\n",
    "all_features = onehot_features\n",
    "\n",
    "correlation_matrix = pd.DataFrame(ct.transform(X), columns=all_features)\n",
    "correlation_matrix = pd.concat([correlation_matrix,Y.reset_index()], axis=1).corr()\n",
    "correlation_matrix = correlation_matrix.loc[[\"hasCompleted | hasViewed\"]].T.sort_values(\"hasCompleted | hasViewed\", ascending=False).T"
   ]
  },
  {
   "cell_type": "code",
   "execution_count": 69,
   "metadata": {},
   "outputs": [
    {
     "data": {
      "image/png": "[encoded data removed]",
      "text/plain": [
       "<Figure size 1440x864 with 1 Axes>"
      ]
     },
     "metadata": {},
     "output_type": "display_data"
    }
   ],
   "source": [
    "correlation_matrix.loc[[\"hasCompleted | hasViewed\"]].T.sort_values(\"hasCompleted | hasViewed\", ascending=False).T\n",
    "plt.figure(figsize=(20, 12))\n",
    "sns.barplot(y=correlation_matrix.columns[1:16], x=correlation_matrix.loc[\"hasCompleted | hasViewed\"][1:16])\n",
    "plt.title('Important Features (avg over folds)')\n",
    "plt.show()"
   ]
  },
  {
   "cell_type": "markdown",
   "metadata": {},
   "source": [
    "Looking at the overall summary of correlation, the demographic properties of consumers from the highest to lowest would suggest that female customers having a membership term between 5-8 years and with the income level of 80 k to 90 k are probably a good target. It could be hypothesized that these segments customers are likely to respond favorably to offers. "
   ]
  },
  {
   "cell_type": "code",
   "execution_count": 70,
   "metadata": {},
   "outputs": [
    {
     "data": {
      "text/html": [
       "<div>\n",
       "<style scoped>\n",
       "    .dataframe tbody tr th:only-of-type {\n",
       "        vertical-align: middle;\n",
       "    }\n",
       "\n",
       "    .dataframe tbody tr th {\n",
       "        vertical-align: top;\n",
       "    }\n",
       "\n",
       "    .dataframe thead th {\n",
       "        text-align: right;\n",
       "    }\n",
       "</style>\n",
       "<table border=\"1\" class=\"dataframe\">\n",
       "  <thead>\n",
       "    <tr style=\"text-align: right;\">\n",
       "      <th></th>\n",
       "      <th>gender</th>\n",
       "      <th>membership_terms_group</th>\n",
       "      <th>income_group</th>\n",
       "      <th>hit_rate</th>\n",
       "    </tr>\n",
       "  </thead>\n",
       "  <tbody>\n",
       "    <tr>\n",
       "      <th>20</th>\n",
       "      <td>F</td>\n",
       "      <td>5-8</td>\n",
       "      <td>80-90k</td>\n",
       "      <td>0.196078</td>\n",
       "    </tr>\n",
       "    <tr>\n",
       "      <th>32</th>\n",
       "      <td>F</td>\n",
       "      <td>5-8</td>\n",
       "      <td>70-80k</td>\n",
       "      <td>0.194611</td>\n",
       "    </tr>\n",
       "    <tr>\n",
       "      <th>2</th>\n",
       "      <td>F</td>\n",
       "      <td>5-8</td>\n",
       "      <td>60-70k</td>\n",
       "      <td>0.193050</td>\n",
       "    </tr>\n",
       "    <tr>\n",
       "      <th>8</th>\n",
       "      <td>F</td>\n",
       "      <td>5-8</td>\n",
       "      <td>50-60k</td>\n",
       "      <td>0.174041</td>\n",
       "    </tr>\n",
       "    <tr>\n",
       "      <th>39</th>\n",
       "      <td>M</td>\n",
       "      <td>5-8</td>\n",
       "      <td>90-100k</td>\n",
       "      <td>0.158654</td>\n",
       "    </tr>\n",
       "    <tr>\n",
       "      <th>21</th>\n",
       "      <td>M</td>\n",
       "      <td>5-8</td>\n",
       "      <td>80-90k</td>\n",
       "      <td>0.115556</td>\n",
       "    </tr>\n",
       "    <tr>\n",
       "      <th>38</th>\n",
       "      <td>F</td>\n",
       "      <td>5-8</td>\n",
       "      <td>90-100k</td>\n",
       "      <td>0.080972</td>\n",
       "    </tr>\n",
       "    <tr>\n",
       "      <th>47</th>\n",
       "      <td>M</td>\n",
       "      <td>8-10</td>\n",
       "      <td>30-40k</td>\n",
       "      <td>0.058824</td>\n",
       "    </tr>\n",
       "    <tr>\n",
       "      <th>16</th>\n",
       "      <td>F</td>\n",
       "      <td>8-10</td>\n",
       "      <td>40-50k</td>\n",
       "      <td>0.055556</td>\n",
       "    </tr>\n",
       "    <tr>\n",
       "      <th>9</th>\n",
       "      <td>M</td>\n",
       "      <td>5-8</td>\n",
       "      <td>50-60k</td>\n",
       "      <td>0.043825</td>\n",
       "    </tr>\n",
       "  </tbody>\n",
       "</table>\n",
       "</div>"
      ],
      "text/plain": [
       "   gender membership_terms_group income_group  hit_rate\n",
       "20      F                    5-8       80-90k  0.196078\n",
       "32      F                    5-8       70-80k  0.194611\n",
       "2       F                    5-8       60-70k  0.193050\n",
       "8       F                    5-8       50-60k  0.174041\n",
       "39      M                    5-8      90-100k  0.158654\n",
       "21      M                    5-8       80-90k  0.115556\n",
       "38      F                    5-8      90-100k  0.080972\n",
       "47      M                   8-10       30-40k  0.058824\n",
       "16      F                   8-10       40-50k  0.055556\n",
       "9       M                    5-8       50-60k  0.043825"
      ]
     },
     "execution_count": 70,
     "metadata": {},
     "output_type": "execute_result"
    }
   ],
   "source": [
    "result = []\n",
    "for ii in x_test[\"income_group\"].unique():\n",
    "    for jj in x_test[\"membership_terms_group\"].unique():\n",
    "           for kk in x_test[\"gender\"].unique():\n",
    "                x_subtest = x_test[(x_test[\"income_group\"]==ii) & (x_test[\"membership_terms_group\"]==jj)& (x_test[\"gender\"]==kk)]\n",
    "                if len(x_subtest)==0:\n",
    "                    score = 0\n",
    "                   # print (\"{} members with age_group {} and with membership term {} : Hit Rate {:2f} \".format(kk,ii,jj,score))\n",
    "                    result.append([kk,jj,ii,score])\n",
    "                    next \n",
    "                else :\n",
    "                    score = gd_sr.predict(x_subtest).sum()/len(x_subtest)\n",
    "                   # print (\"{} members with age_group {} and with membership term {} : Hit Rate {:2f} \".format(kk,ii,jj,score)\n",
    "                    result.append([kk,jj,ii,score])\n",
    "\n",
    "result_df = pd.DataFrame(result, columns = [\"gender\",\"membership_terms_group\",\"income_group\",\"hit_rate\"])\n",
    "result_df.sort_values(\"hit_rate\", ascending = False).head(10)"
   ]
  },
  {
   "cell_type": "markdown",
   "metadata": {},
   "source": [
    "Let's try to model the effectiveness of such campaign over these segments of customers namely the female members, with membership terms between 6-8 years, and with the income level of 60k to 90 k. We will select the metric that will help to distinguish the difference to be Average Net Amount Spent (Average Amount Spent - Average Rebate claimed) on the transaction. To do that, the transaction data of females customers within 6 to 8 years into their membership and earns between 60 k to 90 k but were not sent any offers can be used as the control group, denoted as A. "
   ]
  },
  {
   "cell_type": "markdown",
   "metadata": {},
   "source": [
    "We have to recreate a new dataframe drom df_sub to include features like \"reward_claimed\" and \"amount_spent\" for later use. Essentially we perform similar data transfomation to how we obtain for model_df as above."
   ]
  },
  {
   "cell_type": "code",
   "execution_count": 71,
   "metadata": {},
   "outputs": [],
   "source": [
    "df_sub2 = df_sub.copy(deep=True)\n",
    "amount_spent = df_sub2[[\"personxoffer_id\",\"amount_spent\"]][df_sub2.event==\"transaction\"]\n",
    "amount_spent = dict(zip(amount_spent.personxoffer_id,amount_spent.amount_spent))\n",
    "df_sub2[\"amount_spent\"] = df_sub2[\"personxoffer_id\"].map(amount_spent)\n",
    "reward_claimed = df_sub2[[\"personxoffer_id\",\"reward_claimed\"]][df_sub.event==\"offer completed\"]\n",
    "reward_claimed = dict(zip(reward_claimed.personxoffer_id,reward_claimed.reward_claimed))\n",
    "df_sub2[\"reward_claimed\"] = df_sub2[\"personxoffer_id\"].map(reward_claimed)\n",
    "df_sub2[\"reward_claimed\"].replace(np.NaN,0,inplace=True)\n",
    "df_sub2[\"net_amount_spent\"] =df_sub2[\"amount_spent\"] -df_sub2[\"reward_claimed\"]\n",
    "model_df2 = df_sub2.drop([\"index\",\"time\",\"cum_count\",\n",
    "                          \"personxoffer_id\",\"person\",\"offer_id\",\"event\",\"time_of_offer\",\n",
    "                           \"channels\",\"became_member_on\",\"Transaction_From_Offer\",\n",
    "                           \"hasViewed\",\"Related_Offer_Id\",\"transaction_completed\",\"hasViewed_on_time\",\"hasCompleted\"], axis=1)\n",
    "\n",
    "model_df2.drop_duplicates(inplace=True)"
   ]
  },
  {
   "cell_type": "markdown",
   "metadata": {},
   "source": [
    "Performing na check :"
   ]
  },
  {
   "cell_type": "code",
   "execution_count": 72,
   "metadata": {},
   "outputs": [
    {
     "data": {
      "text/plain": [
       "amount_spent                11706\n",
       "reward_claimed                  0\n",
       "gender                       4790\n",
       "age                          4790\n",
       "income                       4790\n",
       "Which_Offer                     0\n",
       "reward                       2535\n",
       "difficulty                   2535\n",
       "duration                     2535\n",
       "offer_type                   2535\n",
       "membership_terms(y)          4790\n",
       "hasCompleted | hasViewed        0\n",
       "net_amount_spent            11706\n",
       "dtype: int64"
      ]
     },
     "execution_count": 72,
     "metadata": {},
     "output_type": "execute_result"
    }
   ],
   "source": [
    "model_df2.isna().sum()"
   ]
  },
  {
   "cell_type": "markdown",
   "metadata": {},
   "source": [
    "Remove na and performing na check again :"
   ]
  },
  {
   "cell_type": "code",
   "execution_count": 73,
   "metadata": {},
   "outputs": [
    {
     "data": {
      "text/plain": [
       "amount_spent                   0\n",
       "reward_claimed                 0\n",
       "gender                         0\n",
       "age                            0\n",
       "income                         0\n",
       "Which_Offer                    0\n",
       "reward                      2274\n",
       "difficulty                  2274\n",
       "duration                    2274\n",
       "offer_type                  2274\n",
       "membership_terms(y)            0\n",
       "hasCompleted | hasViewed       0\n",
       "net_amount_spent               0\n",
       "dtype: int64"
      ]
     },
     "execution_count": 73,
     "metadata": {},
     "output_type": "execute_result"
    }
   ],
   "source": [
    "model_df2 = model_df2.dropna(subset=[\"gender\",\"amount_spent\"])\n",
    "model_df2.isna().sum()"
   ]
  },
  {
   "cell_type": "markdown",
   "metadata": {},
   "source": [
    "Note again that some na are found in [\"reward\",\"difficulty\",\"duration\",\"offer_type\"] because these are transactions without underlying offers."
   ]
  },
  {
   "cell_type": "markdown",
   "metadata": {},
   "source": [
    "To bin the continuous variables into categorical variables again :"
   ]
  },
  {
   "cell_type": "code",
   "execution_count": 74,
   "metadata": {},
   "outputs": [],
   "source": [
    "category=pd.cut(model_df2['age'], bins=[10,20,30,40,50,60,70,80,90,1000],labels = [\"10-20\",\"20-30\",\"30-40\",\"40-50\",\"50-60\",\"60-70\",\"70-80\",\"80-90\",\">90\"])\n",
    "model_df2.insert(1,\"age_group\",category)\n",
    "category=pd.cut(model_df2['income'], 9,labels = [\"30-40k\",\"40-50k\",\"50-60k\",\"60-70k\",\"70-80k\",\"80-90k\",\"90-100k\",\"100-110k\",\">110k\"])\n",
    "model_df2.insert(2,\"income_group\",category)\n",
    "category=pd.cut(model_df2['membership_terms(y)'], bins=[0,1,2,5,8,10,100],labels = [\"<1\",\"1-2\",\"2-5\",\"5-8\",\"8-10\",\">10\"])\n",
    "model_df2.insert(3,\"membership_terms_group\",category)\n",
    "model_df2 =model_df2.drop([\"age\",\"income\",'membership_terms(y)'], axis=1)\n",
    "model_df2= model_df2.drop([\"reward\",\"difficulty\",\"duration\",\"offer_type\"], axis=1)\n",
    "model_df2 = model_df2"
   ]
  },
  {
   "cell_type": "code",
   "execution_count": 75,
   "metadata": {},
   "outputs": [
    {
     "data": {
      "text/html": [
       "<div>\n",
       "<style scoped>\n",
       "    .dataframe tbody tr th:only-of-type {\n",
       "        vertical-align: middle;\n",
       "    }\n",
       "\n",
       "    .dataframe tbody tr th {\n",
       "        vertical-align: top;\n",
       "    }\n",
       "\n",
       "    .dataframe thead th {\n",
       "        text-align: right;\n",
       "    }\n",
       "</style>\n",
       "<table border=\"1\" class=\"dataframe\">\n",
       "  <thead>\n",
       "    <tr style=\"text-align: right;\">\n",
       "      <th></th>\n",
       "      <th>amount_spent</th>\n",
       "      <th>age_group</th>\n",
       "      <th>income_group</th>\n",
       "      <th>membership_terms_group</th>\n",
       "      <th>reward_claimed</th>\n",
       "      <th>gender</th>\n",
       "      <th>Which_Offer</th>\n",
       "      <th>hasCompleted | hasViewed</th>\n",
       "      <th>net_amount_spent</th>\n",
       "    </tr>\n",
       "  </thead>\n",
       "  <tbody>\n",
       "    <tr>\n",
       "      <th>0</th>\n",
       "      <td>22.16</td>\n",
       "      <td>30-40</td>\n",
       "      <td>70-80k</td>\n",
       "      <td>2-5</td>\n",
       "      <td>0.0</td>\n",
       "      <td>M</td>\n",
       "      <td>1.0</td>\n",
       "      <td>0</td>\n",
       "      <td>22.16</td>\n",
       "    </tr>\n",
       "    <tr>\n",
       "      <th>5</th>\n",
       "      <td>8.57</td>\n",
       "      <td>30-40</td>\n",
       "      <td>70-80k</td>\n",
       "      <td>2-5</td>\n",
       "      <td>5.0</td>\n",
       "      <td>M</td>\n",
       "      <td>1.0</td>\n",
       "      <td>0</td>\n",
       "      <td>3.57</td>\n",
       "    </tr>\n",
       "    <tr>\n",
       "      <th>9</th>\n",
       "      <td>13.56</td>\n",
       "      <td>30-40</td>\n",
       "      <td>70-80k</td>\n",
       "      <td>2-5</td>\n",
       "      <td>2.0</td>\n",
       "      <td>M</td>\n",
       "      <td>1.0</td>\n",
       "      <td>0</td>\n",
       "      <td>11.56</td>\n",
       "    </tr>\n",
       "    <tr>\n",
       "      <th>14</th>\n",
       "      <td>18.41</td>\n",
       "      <td>30-40</td>\n",
       "      <td>70-80k</td>\n",
       "      <td>2-5</td>\n",
       "      <td>2.0</td>\n",
       "      <td>M</td>\n",
       "      <td>1.0</td>\n",
       "      <td>0</td>\n",
       "      <td>16.41</td>\n",
       "    </tr>\n",
       "    <tr>\n",
       "      <th>45</th>\n",
       "      <td>24.31</td>\n",
       "      <td>50-60</td>\n",
       "      <td>80-90k</td>\n",
       "      <td>5-8</td>\n",
       "      <td>2.0</td>\n",
       "      <td>F</td>\n",
       "      <td>1.0</td>\n",
       "      <td>1</td>\n",
       "      <td>22.31</td>\n",
       "    </tr>\n",
       "    <tr>\n",
       "      <th>...</th>\n",
       "      <td>...</td>\n",
       "      <td>...</td>\n",
       "      <td>...</td>\n",
       "      <td>...</td>\n",
       "      <td>...</td>\n",
       "      <td>...</td>\n",
       "      <td>...</td>\n",
       "      <td>...</td>\n",
       "      <td>...</td>\n",
       "    </tr>\n",
       "    <tr>\n",
       "      <th>306496</th>\n",
       "      <td>7.06</td>\n",
       "      <td>30-40</td>\n",
       "      <td>30-40k</td>\n",
       "      <td>2-5</td>\n",
       "      <td>5.0</td>\n",
       "      <td>M</td>\n",
       "      <td>1.0</td>\n",
       "      <td>0</td>\n",
       "      <td>2.06</td>\n",
       "    </tr>\n",
       "    <tr>\n",
       "      <th>306501</th>\n",
       "      <td>9.12</td>\n",
       "      <td>40-50</td>\n",
       "      <td>60-70k</td>\n",
       "      <td>5-8</td>\n",
       "      <td>2.0</td>\n",
       "      <td>F</td>\n",
       "      <td>1.0</td>\n",
       "      <td>1</td>\n",
       "      <td>7.12</td>\n",
       "    </tr>\n",
       "    <tr>\n",
       "      <th>306507</th>\n",
       "      <td>16.86</td>\n",
       "      <td>40-50</td>\n",
       "      <td>60-70k</td>\n",
       "      <td>5-8</td>\n",
       "      <td>5.0</td>\n",
       "      <td>F</td>\n",
       "      <td>1.0</td>\n",
       "      <td>1</td>\n",
       "      <td>11.86</td>\n",
       "    </tr>\n",
       "    <tr>\n",
       "      <th>306515</th>\n",
       "      <td>18.91</td>\n",
       "      <td>40-50</td>\n",
       "      <td>60-70k</td>\n",
       "      <td>5-8</td>\n",
       "      <td>2.0</td>\n",
       "      <td>F</td>\n",
       "      <td>1.0</td>\n",
       "      <td>1</td>\n",
       "      <td>16.91</td>\n",
       "    </tr>\n",
       "    <tr>\n",
       "      <th>306524</th>\n",
       "      <td>7.79</td>\n",
       "      <td>40-50</td>\n",
       "      <td>60-70k</td>\n",
       "      <td>5-8</td>\n",
       "      <td>5.0</td>\n",
       "      <td>F</td>\n",
       "      <td>1.0</td>\n",
       "      <td>0</td>\n",
       "      <td>2.79</td>\n",
       "    </tr>\n",
       "  </tbody>\n",
       "</table>\n",
       "<p>45095 rows × 9 columns</p>\n",
       "</div>"
      ],
      "text/plain": [
       "        amount_spent age_group income_group membership_terms_group  \\\n",
       "0              22.16     30-40       70-80k                    2-5   \n",
       "5               8.57     30-40       70-80k                    2-5   \n",
       "9              13.56     30-40       70-80k                    2-5   \n",
       "14             18.41     30-40       70-80k                    2-5   \n",
       "45             24.31     50-60       80-90k                    5-8   \n",
       "...              ...       ...          ...                    ...   \n",
       "306496          7.06     30-40       30-40k                    2-5   \n",
       "306501          9.12     40-50       60-70k                    5-8   \n",
       "306507         16.86     40-50       60-70k                    5-8   \n",
       "306515         18.91     40-50       60-70k                    5-8   \n",
       "306524          7.79     40-50       60-70k                    5-8   \n",
       "\n",
       "        reward_claimed gender  Which_Offer  hasCompleted | hasViewed  \\\n",
       "0                  0.0      M          1.0                         0   \n",
       "5                  5.0      M          1.0                         0   \n",
       "9                  2.0      M          1.0                         0   \n",
       "14                 2.0      M          1.0                         0   \n",
       "45                 2.0      F          1.0                         1   \n",
       "...                ...    ...          ...                       ...   \n",
       "306496             5.0      M          1.0                         0   \n",
       "306501             2.0      F          1.0                         1   \n",
       "306507             5.0      F          1.0                         1   \n",
       "306515             2.0      F          1.0                         1   \n",
       "306524             5.0      F          1.0                         0   \n",
       "\n",
       "        net_amount_spent  \n",
       "0                  22.16  \n",
       "5                   3.57  \n",
       "9                  11.56  \n",
       "14                 16.41  \n",
       "45                 22.31  \n",
       "...                  ...  \n",
       "306496              2.06  \n",
       "306501              7.12  \n",
       "306507             11.86  \n",
       "306515             16.91  \n",
       "306524              2.79  \n",
       "\n",
       "[45095 rows x 9 columns]"
      ]
     },
     "execution_count": 75,
     "metadata": {},
     "output_type": "execute_result"
    }
   ],
   "source": [
    "model_df2"
   ]
  },
  {
   "cell_type": "markdown",
   "metadata": {},
   "source": [
    "Define control_group_A as transactions without any linked offers, and control_group_B as transaction with linked offers. "
   ]
  },
  {
   "cell_type": "code",
   "execution_count": 76,
   "metadata": {},
   "outputs": [],
   "source": [
    "control_group_A = model_df2[model_df2.Which_Offer == 100]\n",
    "control_group_B = model_df2[(model_df2[\"hasCompleted | hasViewed\"]==1) & (model_df2.Which_Offer != 100)]"
   ]
  },
  {
   "cell_type": "code",
   "execution_count": 77,
   "metadata": {},
   "outputs": [],
   "source": [
    "control_group_C = model_df2[(model_df2.Which_Offer != 100)]"
   ]
  },
  {
   "cell_type": "code",
   "execution_count": 78,
   "metadata": {},
   "outputs": [
    {
     "data": {
      "text/html": [
       "<div>\n",
       "<style scoped>\n",
       "    .dataframe tbody tr th:only-of-type {\n",
       "        vertical-align: middle;\n",
       "    }\n",
       "\n",
       "    .dataframe tbody tr th {\n",
       "        vertical-align: top;\n",
       "    }\n",
       "\n",
       "    .dataframe thead th {\n",
       "        text-align: right;\n",
       "    }\n",
       "</style>\n",
       "<table border=\"1\" class=\"dataframe\">\n",
       "  <thead>\n",
       "    <tr style=\"text-align: right;\">\n",
       "      <th></th>\n",
       "      <th>amount_spent</th>\n",
       "      <th>age_group</th>\n",
       "      <th>income_group</th>\n",
       "      <th>membership_terms_group</th>\n",
       "      <th>reward_claimed</th>\n",
       "      <th>gender</th>\n",
       "      <th>Which_Offer</th>\n",
       "      <th>hasCompleted | hasViewed</th>\n",
       "      <th>net_amount_spent</th>\n",
       "    </tr>\n",
       "  </thead>\n",
       "  <tbody>\n",
       "    <tr>\n",
       "      <th>64</th>\n",
       "      <td>16.27</td>\n",
       "      <td>20-30</td>\n",
       "      <td>50-60k</td>\n",
       "      <td>5-8</td>\n",
       "      <td>0.0</td>\n",
       "      <td>F</td>\n",
       "      <td>100.0</td>\n",
       "      <td>0</td>\n",
       "      <td>16.27</td>\n",
       "    </tr>\n",
       "    <tr>\n",
       "      <th>142</th>\n",
       "      <td>25.62</td>\n",
       "      <td>50-60</td>\n",
       "      <td>70-80k</td>\n",
       "      <td>2-5</td>\n",
       "      <td>0.0</td>\n",
       "      <td>F</td>\n",
       "      <td>100.0</td>\n",
       "      <td>0</td>\n",
       "      <td>25.62</td>\n",
       "    </tr>\n",
       "    <tr>\n",
       "      <th>478</th>\n",
       "      <td>1.88</td>\n",
       "      <td>20-30</td>\n",
       "      <td>50-60k</td>\n",
       "      <td>2-5</td>\n",
       "      <td>0.0</td>\n",
       "      <td>M</td>\n",
       "      <td>100.0</td>\n",
       "      <td>0</td>\n",
       "      <td>1.88</td>\n",
       "    </tr>\n",
       "    <tr>\n",
       "      <th>551</th>\n",
       "      <td>11.80</td>\n",
       "      <td>60-70</td>\n",
       "      <td>70-80k</td>\n",
       "      <td>2-5</td>\n",
       "      <td>0.0</td>\n",
       "      <td>F</td>\n",
       "      <td>100.0</td>\n",
       "      <td>0</td>\n",
       "      <td>11.80</td>\n",
       "    </tr>\n",
       "    <tr>\n",
       "      <th>719</th>\n",
       "      <td>4.40</td>\n",
       "      <td>30-40</td>\n",
       "      <td>30-40k</td>\n",
       "      <td>2-5</td>\n",
       "      <td>0.0</td>\n",
       "      <td>M</td>\n",
       "      <td>100.0</td>\n",
       "      <td>0</td>\n",
       "      <td>4.40</td>\n",
       "    </tr>\n",
       "    <tr>\n",
       "      <th>...</th>\n",
       "      <td>...</td>\n",
       "      <td>...</td>\n",
       "      <td>...</td>\n",
       "      <td>...</td>\n",
       "      <td>...</td>\n",
       "      <td>...</td>\n",
       "      <td>...</td>\n",
       "      <td>...</td>\n",
       "      <td>...</td>\n",
       "    </tr>\n",
       "    <tr>\n",
       "      <th>305887</th>\n",
       "      <td>4.12</td>\n",
       "      <td>50-60</td>\n",
       "      <td>50-60k</td>\n",
       "      <td>5-8</td>\n",
       "      <td>0.0</td>\n",
       "      <td>M</td>\n",
       "      <td>100.0</td>\n",
       "      <td>0</td>\n",
       "      <td>4.12</td>\n",
       "    </tr>\n",
       "    <tr>\n",
       "      <th>305997</th>\n",
       "      <td>23.96</td>\n",
       "      <td>70-80</td>\n",
       "      <td>90-100k</td>\n",
       "      <td>2-5</td>\n",
       "      <td>0.0</td>\n",
       "      <td>M</td>\n",
       "      <td>100.0</td>\n",
       "      <td>0</td>\n",
       "      <td>23.96</td>\n",
       "    </tr>\n",
       "    <tr>\n",
       "      <th>306223</th>\n",
       "      <td>5.84</td>\n",
       "      <td>30-40</td>\n",
       "      <td>60-70k</td>\n",
       "      <td>2-5</td>\n",
       "      <td>0.0</td>\n",
       "      <td>M</td>\n",
       "      <td>100.0</td>\n",
       "      <td>0</td>\n",
       "      <td>5.84</td>\n",
       "    </tr>\n",
       "    <tr>\n",
       "      <th>306387</th>\n",
       "      <td>18.66</td>\n",
       "      <td>60-70</td>\n",
       "      <td>70-80k</td>\n",
       "      <td>2-5</td>\n",
       "      <td>0.0</td>\n",
       "      <td>M</td>\n",
       "      <td>100.0</td>\n",
       "      <td>0</td>\n",
       "      <td>18.66</td>\n",
       "    </tr>\n",
       "    <tr>\n",
       "      <th>306468</th>\n",
       "      <td>3.42</td>\n",
       "      <td>70-80</td>\n",
       "      <td>50-60k</td>\n",
       "      <td>2-5</td>\n",
       "      <td>0.0</td>\n",
       "      <td>M</td>\n",
       "      <td>100.0</td>\n",
       "      <td>0</td>\n",
       "      <td>3.42</td>\n",
       "    </tr>\n",
       "  </tbody>\n",
       "</table>\n",
       "<p>2274 rows × 9 columns</p>\n",
       "</div>"
      ],
      "text/plain": [
       "        amount_spent age_group income_group membership_terms_group  \\\n",
       "64             16.27     20-30       50-60k                    5-8   \n",
       "142            25.62     50-60       70-80k                    2-5   \n",
       "478             1.88     20-30       50-60k                    2-5   \n",
       "551            11.80     60-70       70-80k                    2-5   \n",
       "719             4.40     30-40       30-40k                    2-5   \n",
       "...              ...       ...          ...                    ...   \n",
       "305887          4.12     50-60       50-60k                    5-8   \n",
       "305997         23.96     70-80      90-100k                    2-5   \n",
       "306223          5.84     30-40       60-70k                    2-5   \n",
       "306387         18.66     60-70       70-80k                    2-5   \n",
       "306468          3.42     70-80       50-60k                    2-5   \n",
       "\n",
       "        reward_claimed gender  Which_Offer  hasCompleted | hasViewed  \\\n",
       "64                 0.0      F        100.0                         0   \n",
       "142                0.0      F        100.0                         0   \n",
       "478                0.0      M        100.0                         0   \n",
       "551                0.0      F        100.0                         0   \n",
       "719                0.0      M        100.0                         0   \n",
       "...                ...    ...          ...                       ...   \n",
       "305887             0.0      M        100.0                         0   \n",
       "305997             0.0      M        100.0                         0   \n",
       "306223             0.0      M        100.0                         0   \n",
       "306387             0.0      M        100.0                         0   \n",
       "306468             0.0      M        100.0                         0   \n",
       "\n",
       "        net_amount_spent  \n",
       "64                 16.27  \n",
       "142                25.62  \n",
       "478                 1.88  \n",
       "551                11.80  \n",
       "719                 4.40  \n",
       "...                  ...  \n",
       "305887              4.12  \n",
       "305997             23.96  \n",
       "306223              5.84  \n",
       "306387             18.66  \n",
       "306468              3.42  \n",
       "\n",
       "[2274 rows x 9 columns]"
      ]
     },
     "execution_count": 78,
     "metadata": {},
     "output_type": "execute_result"
    }
   ],
   "source": [
    "control_group_A"
   ]
  },
  {
   "cell_type": "code",
   "execution_count": 79,
   "metadata": {},
   "outputs": [
    {
     "name": "stdout",
     "output_type": "stream",
     "text": [
      "Control Group A : Non Offer Linked Purchases Net Spent from Target Segment Customers = $18.931\n",
      "Control Group A : Non Offer Linked Purchases from Target Segments Customer/Total Non Offer Linked Purchases = 0.0638\n",
      "Control Group B : Offer Linked Purchases Net Spent from Target Segment Customers = $17.350\n",
      "Control Group B : Offer Linked Purchases from Target Segment Customers/Total Offer Linked Purchases = 0.1009\n",
      "Control Group C : Number of Offer Receiving Target Segment Customers/Total Number of Offer Receiving Target Segment Customers = 0.0747\n"
     ]
    }
   ],
   "source": [
    "print(\"Control Group A : Non Offer Linked Purchases Net Spent from Target Segment Customers = $%.3f\"%(control_group_A[((control_group_A[\"income_group\"]==\"60-70k\") | (control_group_A[\"income_group\"]==\"70-80k\") | (control_group_A[\"income_group\"]==\"80-90k\")) & ((control_group_A[\"gender\"]==\"F\") & (control_group_A[\"membership_terms_group\"]==\"5-8\"))].agg(np.mean)[\"net_amount_spent\"]))\n",
    "print(\"Control Group A : Non Offer Linked Purchases from Target Segments Customer/Total Non Offer Linked Purchases = %.4f\"%(len(control_group_A[((control_group_A[\"income_group\"]==\"60-70k\") | (control_group_A[\"income_group\"]==\"70-80k\") | (control_group_A[\"income_group\"]==\"80-90k\")) & ((control_group_A[\"gender\"]==\"F\") & (control_group_A[\"membership_terms_group\"]==\"5-8\"))])/len(control_group_A)))\n",
    "print(\"Control Group B : Offer Linked Purchases Net Spent from Target Segment Customers = $%.3f\"%(control_group_B[((control_group_B[\"income_group\"]==\"60-70k\") | (control_group_B[\"income_group\"]==\"70-80k\") | (control_group_B[\"income_group\"]==\"80-90k\")) & ((control_group_B[\"gender\"]==\"F\") & (control_group_B[\"membership_terms_group\"]==\"5-8\"))].agg(np.mean)[\"net_amount_spent\"]))\n",
    "print(\"Control Group B : Offer Linked Purchases from Target Segment Customers/Total Offer Linked Purchases = %.4f\"%(len(control_group_B[((control_group_B[\"income_group\"]==\"60-70k\") | (control_group_B[\"income_group\"]==\"70-80k\") | (control_group_B[\"income_group\"]==\"80-90k\")) & ((control_group_B[\"gender\"]==\"F\") & (control_group_B[\"membership_terms_group\"]==\"5-8\"))])/len(control_group_B)))\n",
    "print(\"Control Group C : Number of Offer Receiving Target Segment Customers/Total Number of Offer Receiving Target Segment Customers = %.4f\"%(len(control_group_C[((control_group_C[\"income_group\"]==\"60-70k\") | (control_group_C[\"income_group\"]==\"70-80k\") | (control_group_C[\"income_group\"]==\"80-90k\")) & ((control_group_C[\"gender\"]==\"F\") & (control_group_C[\"membership_terms_group\"]==\"5-8\"))])/len(control_group_C)))"
   ]
  },
  {
   "cell_type": "code",
   "execution_count": 80,
   "metadata": {},
   "outputs": [],
   "source": [
    "ave_net_spend_A = control_group_A[((control_group_A[\"income_group\"]==\"60-70k\") | (control_group_A[\"income_group\"]==\"70-80k\") | (control_group_A[\"income_group\"]==\"80-90k\")) & ((control_group_A[\"gender\"]==\"F\") & (control_group_A[\"membership_terms_group\"]==\"5-8\"))][\"net_amount_spent\"]\n",
    "\n",
    "ave_net_spend_B = control_group_B[((control_group_B[\"income_group\"]==\"60-70k\") | (control_group_B[\"income_group\"]==\"70-80k\") | (control_group_B[\"income_group\"]==\"80-90k\")) & ((control_group_B[\"gender\"]==\"F\") & (control_group_B[\"membership_terms_group\"]==\"5-8\"))][\"net_amount_spent\"]"
   ]
  },
  {
   "cell_type": "code",
   "execution_count": 81,
   "metadata": {},
   "outputs": [],
   "source": [
    "t_value,p_value = stats.ttest_ind(a=ave_net_spend_A.to_numpy(), b=ave_net_spend_B.to_numpy(), equal_var=True)"
   ]
  },
  {
   "cell_type": "code",
   "execution_count": 82,
   "metadata": {},
   "outputs": [
    {
     "name": "stdout",
     "output_type": "stream",
     "text": [
      "Test statistic is 0.451088\n",
      "p-value for two tailed test is 0.652003\n",
      "Conclusion : Since p-value(=0.652003) > alpha(=0.05) We do not reject the null hypothesis H0.\n"
     ]
    }
   ],
   "source": [
    "print('Test statistic is %f'%float(\"{:.6f}\".format(t_value)))\n",
    "print('p-value for two tailed test is %f'%p_value)\n",
    "\n",
    "alpha = 0.05\n",
    "\n",
    "if p_value<=alpha:\n",
    "    print('Conclusion','n','Since p-value(=%f)'%p_value,'<','alpha(=%.2f)'%alpha,'''We reject the null hypothesis H0. So we conclude that the \n",
    "means are not equal i.e., μ1 = μ2 at %.2f level of significance.'''%alpha)\n",
    "\n",
    "else:\n",
    "    print('Conclusion :','Since p-value(=%f)'%p_value,'>','alpha(=%.2f)'%alpha,'''We do not reject the null hypothesis H0.''')"
   ]
  },
  {
   "cell_type": "code",
   "execution_count": 83,
   "metadata": {},
   "outputs": [],
   "source": [
    "#--end--"
   ]
  }
 ],
 "metadata": {
  "kernelspec": {
   "display_name": "Python 3 (ipykernel)",
   "language": "python",
   "name": "python3"
  },
  "language_info": {
   "codemirror_mode": {
    "name": "ipython",
    "version": 3
   },
   "file_extension": ".py",
   "mimetype": "text/x-python",
   "name": "python",
   "nbconvert_exporter": "python",
   "pygments_lexer": "ipython3",
   "version": "3.9.12"
  }
 },
 "nbformat": 4,
 "nbformat_minor": 2
}
